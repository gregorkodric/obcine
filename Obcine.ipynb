{
 "cells": [
  {
   "cell_type": "markdown",
   "metadata": {},
   "source": [
    "# Občine\n",
    "\n",
    "\n",
    "V danem projektu Občine, sem analiziral nekaj statističnih podatkov, ki se nanašajo na slovenske občine.\n",
    "Z nekaj spletnih strani sem pridobil podatke o županih, površini, naseljih in prebivalcih v posamezni občini.\n",
    "Zanimalo me je, kako se je spreminjalo število županov z dvema zaporednima mandatoma v letih od 1994-2014, kjer en mandat traja 4 leta. Pregledal sem, koliko občin ima vsaka pokrajina, pri čemer sem vzel eno izmed delitev na pokrajine, ki se meni zdi najbolj smiselna. Na koncu izračunal še gostoto prebivalstva v posamezni občini\n",
    "\n",
    "## Župani\n"
   ]
  },
  {
   "cell_type": "code",
   "execution_count": 5,
   "metadata": {},
   "outputs": [
    {
     "name": "stderr",
     "output_type": "stream",
     "text": [
      "c:\\program files (x86)\\python36-32\\lib\\site-packages\\IPython\\core\\interactiveshell.py:2862: FutureWarning: \n",
      "mpl_style had been deprecated and will be removed in a future version.\n",
      "Use `matplotlib.pyplot.style.use` instead.\n",
      "\n",
      "  exec(code_obj, self.user_global_ns, self.user_ns)\n"
     ]
    }
   ],
   "source": [
    "%matplotlib inline\n",
    "import pandas as pd\n",
    "import matplotlib.pyplot as plt\n",
    "pd.set_option('display.mpl_style', 'default')\n",
    "pd.set_option('display.width', 5000) \n",
    "pd.set_option('display.max_columns', 60)\n",
    "plt.rcParams['figure.figsize'] = (15, 5)\n",
    "\n",
    "seznam_obcin = pd.read_csv('csv-datoteke/index.csv')\n",
    "podatki_2014 = pd.read_csv('csv-datoteke/2010-2014.csv')\n",
    "podatki_brez_2010 = pd.read_csv('csv-datoteke/2006-2010.csv')\n",
    "podatki_2006 = pd.read_csv('csv-datoteke/2002-2006.csv')\n",
    "podatki_2002 = pd.read_csv('csv-datoteke/1998-2002.csv')\n",
    "podatki_1998 = pd.read_csv('csv-datoteke/1994-1998.csv')\n",
    "podatki_naselja = pd.read_csv('csv-datoteke/naselja.csv')\n",
    "pd.options.display.max_rows = 30"
   ]
  },
  {
   "cell_type": "markdown",
   "metadata": {},
   "source": [
    "**Tabela županov, ki so dobili dva zaporedna mandata za obdobje 2014-2018 in 2010-2014.**"
   ]
  },
  {
   "cell_type": "markdown",
   "metadata": {},
   "source": [
    "**Tabela županov, ki so dobili dva zaporedna mandata za obdobje 2006-2010 in 2010-2014.**"
   ]
  },
  {
   "cell_type": "code",
   "execution_count": 6,
   "metadata": {
    "collapsed": true
   },
   "outputs": [],
   "source": [
    "mandat_2 = pd.merge(podatki_2014[['obcina', 'zupan']], podatki_brez_2010, on='zupan', suffixes=('_2014', '_2010'))"
   ]
  },
  {
   "cell_type": "code",
   "execution_count": 7,
   "metadata": {},
   "outputs": [
    {
     "data": {
      "text/html": [
       "<div>\n",
       "<style>\n",
       "    .dataframe thead tr:only-child th {\n",
       "        text-align: right;\n",
       "    }\n",
       "\n",
       "    .dataframe thead th {\n",
       "        text-align: left;\n",
       "    }\n",
       "\n",
       "    .dataframe tbody tr th {\n",
       "        vertical-align: top;\n",
       "    }\n",
       "</style>\n",
       "<table border=\"1\" class=\"dataframe\">\n",
       "  <thead>\n",
       "    <tr style=\"text-align: right;\">\n",
       "      <th></th>\n",
       "      <th>obcina_2014</th>\n",
       "      <th>zupan</th>\n",
       "      <th>obcina_2010</th>\n",
       "    </tr>\n",
       "  </thead>\n",
       "  <tbody>\n",
       "    <tr>\n",
       "      <th>0</th>\n",
       "      <td>Občina Ajdovščina</td>\n",
       "      <td>Marjan Poljšak</td>\n",
       "      <td>Občina Ajdovščina</td>\n",
       "    </tr>\n",
       "    <tr>\n",
       "      <th>1</th>\n",
       "      <td>Občina Benedikt</td>\n",
       "      <td>Milan Gumzar</td>\n",
       "      <td>Občina Benedikt</td>\n",
       "    </tr>\n",
       "    <tr>\n",
       "      <th>2</th>\n",
       "      <td>Občina Bled</td>\n",
       "      <td>Janez Fajfar</td>\n",
       "      <td>Občina Bled</td>\n",
       "    </tr>\n",
       "    <tr>\n",
       "      <th>3</th>\n",
       "      <td>Občina Bloke</td>\n",
       "      <td>Jože Doles</td>\n",
       "      <td>Občina Bloke</td>\n",
       "    </tr>\n",
       "    <tr>\n",
       "      <th>4</th>\n",
       "      <td>Občina Bohinj</td>\n",
       "      <td>Franc Kramar</td>\n",
       "      <td>Občina Bohinj</td>\n",
       "    </tr>\n",
       "    <tr>\n",
       "      <th>5</th>\n",
       "      <td>Občina Borovnica</td>\n",
       "      <td>Andrej Ocepek</td>\n",
       "      <td>Občina Borovnica</td>\n",
       "    </tr>\n",
       "    <tr>\n",
       "      <th>6</th>\n",
       "      <td>Občina Bovec</td>\n",
       "      <td>Danijel Krivec</td>\n",
       "      <td>Občina Bovec</td>\n",
       "    </tr>\n",
       "    <tr>\n",
       "      <th>7</th>\n",
       "      <td>Občina Brda</td>\n",
       "      <td>Franc Mužič</td>\n",
       "      <td>Občina Brda</td>\n",
       "    </tr>\n",
       "    <tr>\n",
       "      <th>8</th>\n",
       "      <td>Občina Brezovica</td>\n",
       "      <td>Metod Ropret</td>\n",
       "      <td>Občina Brezovica</td>\n",
       "    </tr>\n",
       "    <tr>\n",
       "      <th>9</th>\n",
       "      <td>Občina Brežice</td>\n",
       "      <td>Ivan Molan</td>\n",
       "      <td>Občina Brežice</td>\n",
       "    </tr>\n",
       "  </tbody>\n",
       "</table>\n",
       "</div>"
      ],
      "text/plain": [
       "         obcina_2014           zupan        obcina_2010\n",
       "0  Občina Ajdovščina  Marjan Poljšak  Občina Ajdovščina\n",
       "1    Občina Benedikt    Milan Gumzar    Občina Benedikt\n",
       "2        Občina Bled    Janez Fajfar        Občina Bled\n",
       "3       Občina Bloke      Jože Doles       Občina Bloke\n",
       "4      Občina Bohinj    Franc Kramar      Občina Bohinj\n",
       "5   Občina Borovnica   Andrej Ocepek   Občina Borovnica\n",
       "6       Občina Bovec  Danijel Krivec       Občina Bovec\n",
       "7        Občina Brda     Franc Mužič        Občina Brda\n",
       "8   Občina Brezovica    Metod Ropret   Občina Brezovica\n",
       "9     Občina Brežice      Ivan Molan     Občina Brežice"
      ]
     },
     "execution_count": 7,
     "metadata": {},
     "output_type": "execute_result"
    }
   ],
   "source": [
    "mandat_2.head(10)"
   ]
  },
  {
   "cell_type": "code",
   "execution_count": 8,
   "metadata": {},
   "outputs": [
    {
     "data": {
      "text/plain": [
       "zupan    141\n",
       "dtype: int64"
      ]
     },
     "execution_count": 8,
     "metadata": {},
     "output_type": "execute_result"
    }
   ],
   "source": [
    "mandat_2[['zupan']].count()"
   ]
  },
  {
   "cell_type": "code",
   "execution_count": 9,
   "metadata": {},
   "outputs": [
    {
     "data": {
      "text/plain": [
       "zupan    208\n",
       "dtype: int64"
      ]
     },
     "execution_count": 9,
     "metadata": {},
     "output_type": "execute_result"
    }
   ],
   "source": [
    "podatki_2014[['zupan']].count()"
   ]
  },
  {
   "cell_type": "code",
   "execution_count": 10,
   "metadata": {},
   "outputs": [
    {
     "data": {
      "text/plain": [
       "zupan    210\n",
       "dtype: int64"
      ]
     },
     "execution_count": 10,
     "metadata": {},
     "output_type": "execute_result"
    }
   ],
   "source": [
    "podatki_brez_2010[['zupan']].count()"
   ]
  },
  {
   "cell_type": "code",
   "execution_count": 11,
   "metadata": {
    "collapsed": true
   },
   "outputs": [],
   "source": [
    "odstotek_zupanov = mandat_2[['zupan']].count() / podatki_2014[['zupan']].count()"
   ]
  },
  {
   "cell_type": "code",
   "execution_count": 12,
   "metadata": {},
   "outputs": [
    {
     "data": {
      "text/plain": [
       "zupan    0.677885\n",
       "dtype: float64"
      ]
     },
     "execution_count": 12,
     "metadata": {},
     "output_type": "execute_result"
    }
   ],
   "source": [
    "odstotek_zupanov"
   ]
  },
  {
   "cell_type": "markdown",
   "metadata": {},
   "source": [
    "Združil sem tabeli podatki_2014 in podatki_brez_2010 po stolpcu zupan in tako dobil tabelo vseh županov, ki so bili dva mandata na oblasti. Nato sem delil število županov z dvema mandatoma s številom vseh županov in dobil delež teh županov."
   ]
  },
  {
   "cell_type": "markdown",
   "metadata": {},
   "source": [
    "**Tabela županov, ki so dobili dva zaporedna mandata za obdobje 2002-2006 in 2006-2010.**"
   ]
  },
  {
   "cell_type": "code",
   "execution_count": 13,
   "metadata": {
    "collapsed": true
   },
   "outputs": [],
   "source": [
    "mandat_3 = pd.merge(podatki_brez_2010, podatki_2006[['obcina', 'zupan']], on='zupan', suffixes=('_2010', '_2006'))"
   ]
  },
  {
   "cell_type": "code",
   "execution_count": 14,
   "metadata": {},
   "outputs": [
    {
     "data": {
      "text/html": [
       "<div>\n",
       "<style>\n",
       "    .dataframe thead tr:only-child th {\n",
       "        text-align: right;\n",
       "    }\n",
       "\n",
       "    .dataframe thead th {\n",
       "        text-align: left;\n",
       "    }\n",
       "\n",
       "    .dataframe tbody tr th {\n",
       "        vertical-align: top;\n",
       "    }\n",
       "</style>\n",
       "<table border=\"1\" class=\"dataframe\">\n",
       "  <thead>\n",
       "    <tr style=\"text-align: right;\">\n",
       "      <th></th>\n",
       "      <th>obcina_2010</th>\n",
       "      <th>zupan</th>\n",
       "      <th>obcina_2006</th>\n",
       "    </tr>\n",
       "  </thead>\n",
       "  <tbody>\n",
       "    <tr>\n",
       "      <th>0</th>\n",
       "      <td>Občina Ajdovščina</td>\n",
       "      <td>Marjan Poljšak</td>\n",
       "      <td>Občina Ajdovščina</td>\n",
       "    </tr>\n",
       "    <tr>\n",
       "      <th>1</th>\n",
       "      <td>Občina Beltinci</td>\n",
       "      <td>Milan Kerman</td>\n",
       "      <td>Občina Beltinci</td>\n",
       "    </tr>\n",
       "    <tr>\n",
       "      <th>2</th>\n",
       "      <td>Občina Benedikt</td>\n",
       "      <td>Milan Gumzar</td>\n",
       "      <td>Občina Benedikt</td>\n",
       "    </tr>\n",
       "    <tr>\n",
       "      <th>3</th>\n",
       "      <td>Občina Bistrica ob Sotli</td>\n",
       "      <td>Jožef Pregrad</td>\n",
       "      <td>Občina Bistrica ob Sotli</td>\n",
       "    </tr>\n",
       "    <tr>\n",
       "      <th>4</th>\n",
       "      <td>Občina Bloke</td>\n",
       "      <td>Jože Doles</td>\n",
       "      <td>Občina Bloke</td>\n",
       "    </tr>\n",
       "    <tr>\n",
       "      <th>5</th>\n",
       "      <td>Občina Braslovče</td>\n",
       "      <td>Marko Balant</td>\n",
       "      <td>Občina Braslovče</td>\n",
       "    </tr>\n",
       "    <tr>\n",
       "      <th>6</th>\n",
       "      <td>Občina Brda</td>\n",
       "      <td>Franc Mužič</td>\n",
       "      <td>Občina Brda</td>\n",
       "    </tr>\n",
       "    <tr>\n",
       "      <th>7</th>\n",
       "      <td>Občina Cankova</td>\n",
       "      <td>Drago Vogrinčič</td>\n",
       "      <td>Občina Cankova</td>\n",
       "    </tr>\n",
       "    <tr>\n",
       "      <th>8</th>\n",
       "      <td>Mestna občina Celje</td>\n",
       "      <td>Bojan Šrot</td>\n",
       "      <td>Mestna občina Celje</td>\n",
       "    </tr>\n",
       "    <tr>\n",
       "      <th>9</th>\n",
       "      <td>Občina Cerklje na Gorenjskem</td>\n",
       "      <td>Franc Čebulj</td>\n",
       "      <td>Občina Cerklje na Gorenjskem</td>\n",
       "    </tr>\n",
       "  </tbody>\n",
       "</table>\n",
       "</div>"
      ],
      "text/plain": [
       "                    obcina_2010            zupan                   obcina_2006\n",
       "0             Občina Ajdovščina   Marjan Poljšak             Občina Ajdovščina\n",
       "1               Občina Beltinci     Milan Kerman               Občina Beltinci\n",
       "2               Občina Benedikt     Milan Gumzar               Občina Benedikt\n",
       "3      Občina Bistrica ob Sotli    Jožef Pregrad      Občina Bistrica ob Sotli\n",
       "4                  Občina Bloke       Jože Doles                  Občina Bloke\n",
       "5              Občina Braslovče     Marko Balant              Občina Braslovče\n",
       "6                   Občina Brda      Franc Mužič                   Občina Brda\n",
       "7                Občina Cankova  Drago Vogrinčič                Občina Cankova\n",
       "8           Mestna občina Celje       Bojan Šrot           Mestna občina Celje\n",
       "9  Občina Cerklje na Gorenjskem     Franc Čebulj  Občina Cerklje na Gorenjskem"
      ]
     },
     "execution_count": 14,
     "metadata": {},
     "output_type": "execute_result"
    }
   ],
   "source": [
    "mandat_3.head(10)"
   ]
  },
  {
   "cell_type": "code",
   "execution_count": 15,
   "metadata": {},
   "outputs": [
    {
     "data": {
      "text/plain": [
       "zupan    120\n",
       "dtype: int64"
      ]
     },
     "execution_count": 15,
     "metadata": {},
     "output_type": "execute_result"
    }
   ],
   "source": [
    "mandat_3[['zupan']].count()"
   ]
  },
  {
   "cell_type": "code",
   "execution_count": 16,
   "metadata": {},
   "outputs": [
    {
     "data": {
      "text/plain": [
       "zupan    210\n",
       "dtype: int64"
      ]
     },
     "execution_count": 16,
     "metadata": {},
     "output_type": "execute_result"
    }
   ],
   "source": [
    "podatki_brez_2010[['zupan']].count()"
   ]
  },
  {
   "cell_type": "code",
   "execution_count": 17,
   "metadata": {},
   "outputs": [
    {
     "data": {
      "text/plain": [
       "zupan    192\n",
       "dtype: int64"
      ]
     },
     "execution_count": 17,
     "metadata": {},
     "output_type": "execute_result"
    }
   ],
   "source": [
    "podatki_2006[['zupan']].count()"
   ]
  },
  {
   "cell_type": "code",
   "execution_count": 18,
   "metadata": {
    "collapsed": true
   },
   "outputs": [],
   "source": [
    "odstotek_zupanov_2 = mandat_3[['zupan']].count() / podatki_2006[['zupan']].count()"
   ]
  },
  {
   "cell_type": "code",
   "execution_count": 19,
   "metadata": {},
   "outputs": [
    {
     "data": {
      "text/plain": [
       "zupan    0.625\n",
       "dtype: float64"
      ]
     },
     "execution_count": 19,
     "metadata": {},
     "output_type": "execute_result"
    }
   ],
   "source": [
    "odstotek_zupanov_2"
   ]
  },
  {
   "cell_type": "markdown",
   "metadata": {},
   "source": [
    "**Tabela županov, ki so dobili dva zaporedna mandata za obdobje 1998-2002 in 2002-2006.**"
   ]
  },
  {
   "cell_type": "code",
   "execution_count": 20,
   "metadata": {
    "collapsed": true
   },
   "outputs": [],
   "source": [
    "mandat_4 = pd.merge(podatki_2006[['obcina', 'zupan']], podatki_2002[['obcina', 'zupan']], on='zupan', suffixes=('_2006', '_2002'))"
   ]
  },
  {
   "cell_type": "code",
   "execution_count": 21,
   "metadata": {},
   "outputs": [
    {
     "data": {
      "text/html": [
       "<div>\n",
       "<style>\n",
       "    .dataframe thead tr:only-child th {\n",
       "        text-align: right;\n",
       "    }\n",
       "\n",
       "    .dataframe thead th {\n",
       "        text-align: left;\n",
       "    }\n",
       "\n",
       "    .dataframe tbody tr th {\n",
       "        vertical-align: top;\n",
       "    }\n",
       "</style>\n",
       "<table border=\"1\" class=\"dataframe\">\n",
       "  <thead>\n",
       "    <tr style=\"text-align: right;\">\n",
       "      <th></th>\n",
       "      <th>obcina_2006</th>\n",
       "      <th>zupan</th>\n",
       "      <th>obcina_2002</th>\n",
       "    </tr>\n",
       "  </thead>\n",
       "  <tbody>\n",
       "    <tr>\n",
       "      <th>0</th>\n",
       "      <td>Občina Benedikt</td>\n",
       "      <td>Milan Gumzar</td>\n",
       "      <td>Občina Benedikt</td>\n",
       "    </tr>\n",
       "    <tr>\n",
       "      <th>1</th>\n",
       "      <td>Občina Bistrica ob Sotli</td>\n",
       "      <td>Jožef Pregrad</td>\n",
       "      <td>Občina Bistrica ob Sotli</td>\n",
       "    </tr>\n",
       "    <tr>\n",
       "      <th>2</th>\n",
       "      <td>Občina Bloke</td>\n",
       "      <td>Jože Doles</td>\n",
       "      <td>Občina Bloke</td>\n",
       "    </tr>\n",
       "    <tr>\n",
       "      <th>3</th>\n",
       "      <td>Občina Borovnica</td>\n",
       "      <td>Alojz Močnik</td>\n",
       "      <td>Občina Borovnica</td>\n",
       "    </tr>\n",
       "    <tr>\n",
       "      <th>4</th>\n",
       "      <td>Občina Brda</td>\n",
       "      <td>Franc Mužič</td>\n",
       "      <td>Občina Brda</td>\n",
       "    </tr>\n",
       "    <tr>\n",
       "      <th>5</th>\n",
       "      <td>Občina Brezovica</td>\n",
       "      <td>Drago Stanovnik</td>\n",
       "      <td>Občina Brezovica</td>\n",
       "    </tr>\n",
       "    <tr>\n",
       "      <th>6</th>\n",
       "      <td>Mestna občina Celje</td>\n",
       "      <td>Bojan Šrot</td>\n",
       "      <td>Mestna občina Celje</td>\n",
       "    </tr>\n",
       "    <tr>\n",
       "      <th>7</th>\n",
       "      <td>Občina Cerklje na Gorenjskem</td>\n",
       "      <td>Franc Čebulj</td>\n",
       "      <td>Občina Cerklje na Gorenjskem</td>\n",
       "    </tr>\n",
       "    <tr>\n",
       "      <th>8</th>\n",
       "      <td>Občina Cerkno</td>\n",
       "      <td>Jurij Kavčič</td>\n",
       "      <td>Občina Cerkno</td>\n",
       "    </tr>\n",
       "    <tr>\n",
       "      <th>9</th>\n",
       "      <td>Občina Cerkvenjak</td>\n",
       "      <td>Jože Kraner</td>\n",
       "      <td>Občina Cerkvenjak</td>\n",
       "    </tr>\n",
       "  </tbody>\n",
       "</table>\n",
       "</div>"
      ],
      "text/plain": [
       "                    obcina_2006            zupan                   obcina_2002\n",
       "0               Občina Benedikt     Milan Gumzar               Občina Benedikt\n",
       "1      Občina Bistrica ob Sotli    Jožef Pregrad      Občina Bistrica ob Sotli\n",
       "2                  Občina Bloke       Jože Doles                  Občina Bloke\n",
       "3              Občina Borovnica     Alojz Močnik              Občina Borovnica\n",
       "4                   Občina Brda      Franc Mužič                   Občina Brda\n",
       "5              Občina Brezovica  Drago Stanovnik              Občina Brezovica\n",
       "6           Mestna občina Celje       Bojan Šrot           Mestna občina Celje\n",
       "7  Občina Cerklje na Gorenjskem     Franc Čebulj  Občina Cerklje na Gorenjskem\n",
       "8                 Občina Cerkno     Jurij Kavčič                 Občina Cerkno\n",
       "9             Občina Cerkvenjak      Jože Kraner             Občina Cerkvenjak"
      ]
     },
     "execution_count": 21,
     "metadata": {},
     "output_type": "execute_result"
    }
   ],
   "source": [
    "mandat_4.head(10)"
   ]
  },
  {
   "cell_type": "code",
   "execution_count": 22,
   "metadata": {},
   "outputs": [
    {
     "data": {
      "text/plain": [
       "zupan    134\n",
       "dtype: int64"
      ]
     },
     "execution_count": 22,
     "metadata": {},
     "output_type": "execute_result"
    }
   ],
   "source": [
    "mandat_4[['zupan']].count()"
   ]
  },
  {
   "cell_type": "code",
   "execution_count": 23,
   "metadata": {},
   "outputs": [
    {
     "data": {
      "text/plain": [
       "zupan    192\n",
       "dtype: int64"
      ]
     },
     "execution_count": 23,
     "metadata": {},
     "output_type": "execute_result"
    }
   ],
   "source": [
    "podatki_2006[['zupan']].count()"
   ]
  },
  {
   "cell_type": "code",
   "execution_count": 24,
   "metadata": {},
   "outputs": [
    {
     "data": {
      "text/plain": [
       "zupan    192\n",
       "dtype: int64"
      ]
     },
     "execution_count": 24,
     "metadata": {},
     "output_type": "execute_result"
    }
   ],
   "source": [
    "podatki_2002[['zupan']].count()"
   ]
  },
  {
   "cell_type": "code",
   "execution_count": 25,
   "metadata": {
    "collapsed": true
   },
   "outputs": [],
   "source": [
    "odstotek_zupanov_3 = mandat_4[['zupan']].count() / podatki_2002[['zupan']].count()"
   ]
  },
  {
   "cell_type": "code",
   "execution_count": 26,
   "metadata": {},
   "outputs": [
    {
     "data": {
      "text/plain": [
       "zupan    0.697917\n",
       "dtype: float64"
      ]
     },
     "execution_count": 26,
     "metadata": {},
     "output_type": "execute_result"
    }
   ],
   "source": [
    "odstotek_zupanov_3"
   ]
  },
  {
   "cell_type": "markdown",
   "metadata": {},
   "source": [
    "Iz izračunov vidimo, da se procent županov z dvema zaporednima mandatoma ni veliko spreminjal med leti. Ta odstotek varira nekje med 60 % in 70 %. Torej volilci zaupajo približno dva mandata zapored 2 / 3 županov.S primerjavo tabel lahko opazimo, da so med njimi tudi župani, ki so vsaj 3 ali več zaporednih mandatov na oblasti."
   ]
  },
  {
   "cell_type": "markdown",
   "metadata": {},
   "source": [
    "#### Tabela županov, ki so dobili dva zaporedna mandata za obdobje 1994-1998 in 1998-2002."
   ]
  },
  {
   "cell_type": "code",
   "execution_count": 27,
   "metadata": {
    "collapsed": true
   },
   "outputs": [],
   "source": [
    "mandat_5=pd.merge(podatki_2002[['obcina', 'zupan']], podatki_1998[['obcina', 'zupan']], on='zupan', suffixes=('_2002', '_1998'))"
   ]
  },
  {
   "cell_type": "code",
   "execution_count": 28,
   "metadata": {},
   "outputs": [
    {
     "data": {
      "text/html": [
       "<div>\n",
       "<style>\n",
       "    .dataframe thead tr:only-child th {\n",
       "        text-align: right;\n",
       "    }\n",
       "\n",
       "    .dataframe thead th {\n",
       "        text-align: left;\n",
       "    }\n",
       "\n",
       "    .dataframe tbody tr th {\n",
       "        vertical-align: top;\n",
       "    }\n",
       "</style>\n",
       "<table border=\"1\" class=\"dataframe\">\n",
       "  <thead>\n",
       "    <tr style=\"text-align: right;\">\n",
       "      <th></th>\n",
       "      <th>obcina_2002</th>\n",
       "      <th>zupan</th>\n",
       "      <th>obcina_1998</th>\n",
       "    </tr>\n",
       "  </thead>\n",
       "  <tbody>\n",
       "    <tr>\n",
       "      <th>0</th>\n",
       "      <td>Občina Beltinci</td>\n",
       "      <td>Jožef Kavaš</td>\n",
       "      <td>Občina Beltinci</td>\n",
       "    </tr>\n",
       "    <tr>\n",
       "      <th>1</th>\n",
       "      <td>Občina Bohinj</td>\n",
       "      <td>Franc Kramar</td>\n",
       "      <td>Občina Bohinj</td>\n",
       "    </tr>\n",
       "    <tr>\n",
       "      <th>2</th>\n",
       "      <td>Občina Brda</td>\n",
       "      <td>Franc Mužič</td>\n",
       "      <td>Občina Brda</td>\n",
       "    </tr>\n",
       "    <tr>\n",
       "      <th>3</th>\n",
       "      <td>Občina Brezovica</td>\n",
       "      <td>Drago Stanovnik</td>\n",
       "      <td>Občina Brezovica</td>\n",
       "    </tr>\n",
       "    <tr>\n",
       "      <th>4</th>\n",
       "      <td>Občina Cerklje na Gorenjskem</td>\n",
       "      <td>Franc Čebulj</td>\n",
       "      <td>Občina Cerklje na Gorenjskem</td>\n",
       "    </tr>\n",
       "    <tr>\n",
       "      <th>5</th>\n",
       "      <td>Občina Cerknica</td>\n",
       "      <td>Valentin Schein</td>\n",
       "      <td>Občina Cerknica</td>\n",
       "    </tr>\n",
       "    <tr>\n",
       "      <th>6</th>\n",
       "      <td>Občina Črna na Koroškem</td>\n",
       "      <td>Franc Stakne</td>\n",
       "      <td>Občina Črna na Koroškem</td>\n",
       "    </tr>\n",
       "    <tr>\n",
       "      <th>7</th>\n",
       "      <td>Občina Črnomelj</td>\n",
       "      <td>Andrej Fabjan</td>\n",
       "      <td>Občina Črnomelj</td>\n",
       "    </tr>\n",
       "    <tr>\n",
       "      <th>8</th>\n",
       "      <td>Občina Destrnik</td>\n",
       "      <td>Franc Pukšič</td>\n",
       "      <td>Občina Destrnik - Trnovska vas</td>\n",
       "    </tr>\n",
       "    <tr>\n",
       "      <th>9</th>\n",
       "      <td>Občina Divača</td>\n",
       "      <td>Rajko Vojtkovszky</td>\n",
       "      <td>Občina Divača</td>\n",
       "    </tr>\n",
       "  </tbody>\n",
       "</table>\n",
       "</div>"
      ],
      "text/plain": [
       "                    obcina_2002              zupan                     obcina_1998\n",
       "0               Občina Beltinci        Jožef Kavaš                 Občina Beltinci\n",
       "1                 Občina Bohinj       Franc Kramar                   Občina Bohinj\n",
       "2                   Občina Brda        Franc Mužič                     Občina Brda\n",
       "3              Občina Brezovica    Drago Stanovnik                Občina Brezovica\n",
       "4  Občina Cerklje na Gorenjskem       Franc Čebulj    Občina Cerklje na Gorenjskem\n",
       "5               Občina Cerknica    Valentin Schein                 Občina Cerknica\n",
       "6       Občina Črna na Koroškem       Franc Stakne         Občina Črna na Koroškem\n",
       "7               Občina Črnomelj      Andrej Fabjan                 Občina Črnomelj\n",
       "8               Občina Destrnik       Franc Pukšič  Občina Destrnik - Trnovska vas\n",
       "9                 Občina Divača  Rajko Vojtkovszky                   Občina Divača"
      ]
     },
     "execution_count": 28,
     "metadata": {},
     "output_type": "execute_result"
    }
   ],
   "source": [
    "mandat_5.head(10)"
   ]
  },
  {
   "cell_type": "code",
   "execution_count": 29,
   "metadata": {},
   "outputs": [
    {
     "data": {
      "text/plain": [
       "zupan    81\n",
       "dtype: int64"
      ]
     },
     "execution_count": 29,
     "metadata": {},
     "output_type": "execute_result"
    }
   ],
   "source": [
    "mandat_5[['zupan']].count()"
   ]
  },
  {
   "cell_type": "code",
   "execution_count": 30,
   "metadata": {},
   "outputs": [
    {
     "data": {
      "text/plain": [
       "zupan    192\n",
       "dtype: int64"
      ]
     },
     "execution_count": 30,
     "metadata": {},
     "output_type": "execute_result"
    }
   ],
   "source": [
    "podatki_2002[['zupan']].count()"
   ]
  },
  {
   "cell_type": "code",
   "execution_count": 31,
   "metadata": {},
   "outputs": [
    {
     "data": {
      "text/plain": [
       "zupan    147\n",
       "dtype: int64"
      ]
     },
     "execution_count": 31,
     "metadata": {},
     "output_type": "execute_result"
    }
   ],
   "source": [
    "podatki_1998[['zupan']].count()"
   ]
  },
  {
   "cell_type": "code",
   "execution_count": 32,
   "metadata": {
    "collapsed": true
   },
   "outputs": [],
   "source": [
    "odstotek_zupanov_4 = mandat_5[['zupan']].count() / podatki_1998[['zupan']].count()"
   ]
  },
  {
   "cell_type": "code",
   "execution_count": 33,
   "metadata": {},
   "outputs": [
    {
     "data": {
      "text/plain": [
       "zupan    0.55102\n",
       "dtype: float64"
      ]
     },
     "execution_count": 33,
     "metadata": {},
     "output_type": "execute_result"
    }
   ],
   "source": [
    "odstotek_zupanov_4"
   ]
  },
  {
   "cell_type": "markdown",
   "metadata": {
    "collapsed": true
   },
   "source": [
    "Iz izračunov vidimo, da se procent županov z dvema zaporednima mandatoma ni veliko spreminjal med leti. Ta odstotek varira nekje med 60 % in 70 %. Torej volilci zaupajo približno dva mandata zapored 2 / 3 županov.S primerjavo tabel lahko opazimo, da so med njimi tudi župani, ki so vsaj 3 ali več zaporednih mandatov na oblasti."
   ]
  },
  {
   "cell_type": "code",
   "execution_count": 34,
   "metadata": {
    "collapsed": true
   },
   "outputs": [],
   "source": [
    "mandati = [{'mandat' : '2006-2010 in 2010-2014', 'odstotek županov' :  0.677885 },\n",
    "           {'mandat' : '2002-2006 in 2006-2010', 'odstotek županov' : 0.625},\n",
    "           {'mandat' : '1998-2002 in 2002-2006', 'odstotek županov' : 0.697917},\n",
    "           {'mandat' : '1994-1998 in 1998-2002', 'odstotek županov' :  0.55102}]\n",
    "\n",
    "tf = pd.DataFrame(mandati)"
   ]
  },
  {
   "cell_type": "code",
   "execution_count": 35,
   "metadata": {},
   "outputs": [
    {
     "data": {
      "text/html": [
       "<div>\n",
       "<style>\n",
       "    .dataframe thead tr:only-child th {\n",
       "        text-align: right;\n",
       "    }\n",
       "\n",
       "    .dataframe thead th {\n",
       "        text-align: left;\n",
       "    }\n",
       "\n",
       "    .dataframe tbody tr th {\n",
       "        vertical-align: top;\n",
       "    }\n",
       "</style>\n",
       "<table border=\"1\" class=\"dataframe\">\n",
       "  <thead>\n",
       "    <tr style=\"text-align: right;\">\n",
       "      <th></th>\n",
       "      <th>mandat</th>\n",
       "      <th>odstotek županov</th>\n",
       "    </tr>\n",
       "  </thead>\n",
       "  <tbody>\n",
       "    <tr>\n",
       "      <th>0</th>\n",
       "      <td>2006-2010 in 2010-2014</td>\n",
       "      <td>0.677885</td>\n",
       "    </tr>\n",
       "    <tr>\n",
       "      <th>1</th>\n",
       "      <td>2002-2006 in 2006-2010</td>\n",
       "      <td>0.625000</td>\n",
       "    </tr>\n",
       "    <tr>\n",
       "      <th>2</th>\n",
       "      <td>1998-2002 in 2002-2006</td>\n",
       "      <td>0.697917</td>\n",
       "    </tr>\n",
       "    <tr>\n",
       "      <th>3</th>\n",
       "      <td>1994-1998 in 1998-2002</td>\n",
       "      <td>0.551020</td>\n",
       "    </tr>\n",
       "  </tbody>\n",
       "</table>\n",
       "</div>"
      ],
      "text/plain": [
       "                   mandat  odstotek županov\n",
       "0  2006-2010 in 2010-2014          0.677885\n",
       "1  2002-2006 in 2006-2010          0.625000\n",
       "2  1998-2002 in 2002-2006          0.697917\n",
       "3  1994-1998 in 1998-2002          0.551020"
      ]
     },
     "execution_count": 35,
     "metadata": {},
     "output_type": "execute_result"
    }
   ],
   "source": [
    "tf"
   ]
  },
  {
   "cell_type": "code",
   "execution_count": 36,
   "metadata": {},
   "outputs": [
    {
     "data": {
      "text/html": [
       "<div>\n",
       "<style>\n",
       "    .dataframe thead tr:only-child th {\n",
       "        text-align: right;\n",
       "    }\n",
       "\n",
       "    .dataframe thead th {\n",
       "        text-align: left;\n",
       "    }\n",
       "\n",
       "    .dataframe tbody tr th {\n",
       "        vertical-align: top;\n",
       "    }\n",
       "</style>\n",
       "<table border=\"1\" class=\"dataframe\">\n",
       "  <thead>\n",
       "    <tr style=\"text-align: right;\">\n",
       "      <th></th>\n",
       "      <th>obcina</th>\n",
       "      <th>regija</th>\n",
       "      <th>naselje</th>\n",
       "      <th>prebivalci</th>\n",
       "      <th>povrsina</th>\n",
       "    </tr>\n",
       "  </thead>\n",
       "  <tbody>\n",
       "    <tr>\n",
       "      <th>0</th>\n",
       "      <td>Ajdovščina</td>\n",
       "      <td>GORIŠKA STATISTIČNA REGIJA</td>\n",
       "      <td>45</td>\n",
       "      <td>18959</td>\n",
       "      <td>245</td>\n",
       "    </tr>\n",
       "    <tr>\n",
       "      <th>1</th>\n",
       "      <td>Ankaran</td>\n",
       "      <td>OBALNO-KRAŠKA STATISTIČNA REGIJA</td>\n",
       "      <td>1</td>\n",
       "      <td>3219</td>\n",
       "      <td>8</td>\n",
       "    </tr>\n",
       "    <tr>\n",
       "      <th>2</th>\n",
       "      <td>Apače</td>\n",
       "      <td>POMURSKA STATISTIČNA REGIJA</td>\n",
       "      <td>21</td>\n",
       "      <td>3591</td>\n",
       "      <td>54</td>\n",
       "    </tr>\n",
       "    <tr>\n",
       "      <th>3</th>\n",
       "      <td>Beltinci</td>\n",
       "      <td>POMURSKA STATISTIČNA REGIJA</td>\n",
       "      <td>8</td>\n",
       "      <td>8264</td>\n",
       "      <td>62</td>\n",
       "    </tr>\n",
       "    <tr>\n",
       "      <th>4</th>\n",
       "      <td>Benedikt</td>\n",
       "      <td>PODRAVSKA STATISTIČNA REGIJA</td>\n",
       "      <td>13</td>\n",
       "      <td>2461</td>\n",
       "      <td>24</td>\n",
       "    </tr>\n",
       "    <tr>\n",
       "      <th>5</th>\n",
       "      <td>Bistrica ob Sotli</td>\n",
       "      <td>SAVINJSKA STATISTIČNA REGIJA</td>\n",
       "      <td>11</td>\n",
       "      <td>1382</td>\n",
       "      <td>31</td>\n",
       "    </tr>\n",
       "    <tr>\n",
       "      <th>6</th>\n",
       "      <td>Bled</td>\n",
       "      <td>GORENJSKA STATISTIČNA REGIJA</td>\n",
       "      <td>10</td>\n",
       "      <td>8127</td>\n",
       "      <td>72</td>\n",
       "    </tr>\n",
       "    <tr>\n",
       "      <th>7</th>\n",
       "      <td>Bloke</td>\n",
       "      <td>NOTRANJSKO-KRAŠKA STATISTIČNA REGIJA</td>\n",
       "      <td>45</td>\n",
       "      <td>1545</td>\n",
       "      <td>75</td>\n",
       "    </tr>\n",
       "    <tr>\n",
       "      <th>8</th>\n",
       "      <td>Bohinj</td>\n",
       "      <td>GORENJSKA STATISTIČNA REGIJA</td>\n",
       "      <td>24</td>\n",
       "      <td>5146</td>\n",
       "      <td>334</td>\n",
       "    </tr>\n",
       "    <tr>\n",
       "      <th>9</th>\n",
       "      <td>Borovnica</td>\n",
       "      <td>OSREDNJESLOVENSKA STATISTIČNA REGIJA</td>\n",
       "      <td>12</td>\n",
       "      <td>4250</td>\n",
       "      <td>42</td>\n",
       "    </tr>\n",
       "  </tbody>\n",
       "</table>\n",
       "</div>"
      ],
      "text/plain": [
       "              obcina                                regija  naselje  prebivalci  povrsina\n",
       "0         Ajdovščina            GORIŠKA STATISTIČNA REGIJA       45       18959       245\n",
       "1            Ankaran      OBALNO-KRAŠKA STATISTIČNA REGIJA        1        3219         8\n",
       "2              Apače           POMURSKA STATISTIČNA REGIJA       21        3591        54\n",
       "3           Beltinci           POMURSKA STATISTIČNA REGIJA        8        8264        62\n",
       "4           Benedikt          PODRAVSKA STATISTIČNA REGIJA       13        2461        24\n",
       "5  Bistrica ob Sotli          SAVINJSKA STATISTIČNA REGIJA       11        1382        31\n",
       "6               Bled          GORENJSKA STATISTIČNA REGIJA       10        8127        72\n",
       "7              Bloke  NOTRANJSKO-KRAŠKA STATISTIČNA REGIJA       45        1545        75\n",
       "8             Bohinj          GORENJSKA STATISTIČNA REGIJA       24        5146       334\n",
       "9          Borovnica  OSREDNJESLOVENSKA STATISTIČNA REGIJA       12        4250        42"
      ]
     },
     "execution_count": 36,
     "metadata": {},
     "output_type": "execute_result"
    }
   ],
   "source": [
    "podatki_naselja.head(10)"
   ]
  },
  {
   "cell_type": "markdown",
   "metadata": {},
   "source": [
    "**Spodaj je prikazano število občin v posamezni regiji.**\n",
    "V Sloveniji imamo 212 občin, kar je zelo veliko glede na velikost države.Iz tabele je razvidno, da je največ občin v Podravski regiji, najmanj pa v Zasavski regiji.\n",
    "Zanima me tudi, katera pokrajina ima največ občin(Primorska, Gorenjska, Dolenjska, Štajerska, Notranjska, Koroška, Prekmurje, Osrednjeslovenska). To je moja delitev na pokrajine, mednje sem dodal tudi Osrednjeslovensko pokrajino. Na nekaterih virih je samostojna pokrajina, na drugih pa je razdeljena med druge pokrajine. Zaradi lažjega dela, sem vzel tako delitev.\n",
    "* Koroška ima 12 občin\n",
    "* Dolenjska ima 25 občin\n",
    "* Gorenjska ima 18 občin\n",
    "* Prekmurje ima 27 občin\n",
    "* Osrednjeslovenska ima 26 občin\n",
    "* Primorska ima 21 občin\n",
    "* Notranjska ima 6 občin\n",
    "* Štajerska ima 77 občin\n",
    "\n",
    "Vidimo, da ima Štajerska daleč največ občin, kar je tudi pričakovano, saj je največja po površini."
   ]
  },
  {
   "cell_type": "code",
   "execution_count": 46,
   "metadata": {},
   "outputs": [],
   "source": [
    "tabela  = {'pokrajina' : ['Koroška', 'Dolenjska', 'Gorenjska', 'Prekmurje', 'Osrednjeslovenska', 'Primorska', 'Notranjska', 'Štajerska'],\n",
    "           'število občin' : [12, 25, 18, 27, 26, 21, 6, 77]}\n",
    "         \n",
    "\n",
    "df = pd.DataFrame(tabela)"
   ]
  },
  {
   "cell_type": "code",
   "execution_count": 47,
   "metadata": {},
   "outputs": [
    {
     "data": {
      "text/html": [
       "<div>\n",
       "<style>\n",
       "    .dataframe thead tr:only-child th {\n",
       "        text-align: right;\n",
       "    }\n",
       "\n",
       "    .dataframe thead th {\n",
       "        text-align: left;\n",
       "    }\n",
       "\n",
       "    .dataframe tbody tr th {\n",
       "        vertical-align: top;\n",
       "    }\n",
       "</style>\n",
       "<table border=\"1\" class=\"dataframe\">\n",
       "  <thead>\n",
       "    <tr style=\"text-align: right;\">\n",
       "      <th></th>\n",
       "      <th>pokrajina</th>\n",
       "      <th>število občin</th>\n",
       "    </tr>\n",
       "  </thead>\n",
       "  <tbody>\n",
       "    <tr>\n",
       "      <th>0</th>\n",
       "      <td>Koroška</td>\n",
       "      <td>12</td>\n",
       "    </tr>\n",
       "    <tr>\n",
       "      <th>1</th>\n",
       "      <td>Dolenjska</td>\n",
       "      <td>25</td>\n",
       "    </tr>\n",
       "    <tr>\n",
       "      <th>2</th>\n",
       "      <td>Gorenjska</td>\n",
       "      <td>18</td>\n",
       "    </tr>\n",
       "    <tr>\n",
       "      <th>3</th>\n",
       "      <td>Prekmurje</td>\n",
       "      <td>27</td>\n",
       "    </tr>\n",
       "    <tr>\n",
       "      <th>4</th>\n",
       "      <td>Osrednjeslovenska</td>\n",
       "      <td>26</td>\n",
       "    </tr>\n",
       "    <tr>\n",
       "      <th>5</th>\n",
       "      <td>Primorska</td>\n",
       "      <td>21</td>\n",
       "    </tr>\n",
       "    <tr>\n",
       "      <th>6</th>\n",
       "      <td>Notranjska</td>\n",
       "      <td>6</td>\n",
       "    </tr>\n",
       "    <tr>\n",
       "      <th>7</th>\n",
       "      <td>Štajerska</td>\n",
       "      <td>77</td>\n",
       "    </tr>\n",
       "  </tbody>\n",
       "</table>\n",
       "</div>"
      ],
      "text/plain": [
       "           pokrajina  število občin\n",
       "0            Koroška             12\n",
       "1          Dolenjska             25\n",
       "2          Gorenjska             18\n",
       "3          Prekmurje             27\n",
       "4  Osrednjeslovenska             26\n",
       "5          Primorska             21\n",
       "6         Notranjska              6\n",
       "7          Štajerska             77"
      ]
     },
     "execution_count": 47,
     "metadata": {},
     "output_type": "execute_result"
    }
   ],
   "source": [
    "df"
   ]
  },
  {
   "cell_type": "code",
   "execution_count": 66,
   "metadata": {},
   "outputs": [
    {
     "data": {
      "text/plain": [
       "<matplotlib.axes._subplots.AxesSubplot at 0x12d9370>"
      ]
     },
     "execution_count": 66,
     "metadata": {},
     "output_type": "execute_result"
    },
    {
     "data": {
      "image/png": "[encoded data removed]",
      "text/plain": [
       "<matplotlib.figure.Figure at 0x12cd210>"
      ]
     },
     "metadata": {},
     "output_type": "display_data"
    }
   ],
   "source": [
    "df.plot(x='pokrajina', kind='bar', fontsize=20, title='ŠTEVILO OBČIN')"
   ]
  },
  {
   "cell_type": "code",
   "execution_count": 40,
   "metadata": {
    "collapsed": true
   },
   "outputs": [],
   "source": [
    "regije = podatki_naselja.groupby('regija')[['obcina']].count()"
   ]
  },
  {
   "cell_type": "code",
   "execution_count": 41,
   "metadata": {},
   "outputs": [
    {
     "data": {
      "text/html": [
       "<div>\n",
       "<style>\n",
       "    .dataframe thead tr:only-child th {\n",
       "        text-align: right;\n",
       "    }\n",
       "\n",
       "    .dataframe thead th {\n",
       "        text-align: left;\n",
       "    }\n",
       "\n",
       "    .dataframe tbody tr th {\n",
       "        vertical-align: top;\n",
       "    }\n",
       "</style>\n",
       "<table border=\"1\" class=\"dataframe\">\n",
       "  <thead>\n",
       "    <tr style=\"text-align: right;\">\n",
       "      <th></th>\n",
       "      <th>obcina</th>\n",
       "    </tr>\n",
       "    <tr>\n",
       "      <th>regija</th>\n",
       "      <th></th>\n",
       "    </tr>\n",
       "  </thead>\n",
       "  <tbody>\n",
       "    <tr>\n",
       "      <th>PODRAVSKA STATISTIČNA REGIJA</th>\n",
       "      <td>41</td>\n",
       "    </tr>\n",
       "    <tr>\n",
       "      <th>SAVINJSKA STATISTIČNA REGIJA</th>\n",
       "      <td>33</td>\n",
       "    </tr>\n",
       "    <tr>\n",
       "      <th>POMURSKA STATISTIČNA REGIJA</th>\n",
       "      <td>27</td>\n",
       "    </tr>\n",
       "    <tr>\n",
       "      <th>OSREDNJESLOVENSKA STATISTIČNA REGIJA</th>\n",
       "      <td>26</td>\n",
       "    </tr>\n",
       "    <tr>\n",
       "      <th>JUGOVZHODNA SLOVENIJA</th>\n",
       "      <td>20</td>\n",
       "    </tr>\n",
       "    <tr>\n",
       "      <th>GORENJSKA STATISTIČNA REGIJA</th>\n",
       "      <td>18</td>\n",
       "    </tr>\n",
       "    <tr>\n",
       "      <th>GORIŠKA STATISTIČNA REGIJA</th>\n",
       "      <td>13</td>\n",
       "    </tr>\n",
       "    <tr>\n",
       "      <th>KOROŠKA STATISTIČNA REGIJA</th>\n",
       "      <td>12</td>\n",
       "    </tr>\n",
       "    <tr>\n",
       "      <th>OBALNO-KRAŠKA STATISTIČNA REGIJA</th>\n",
       "      <td>8</td>\n",
       "    </tr>\n",
       "    <tr>\n",
       "      <th>NOTRANJSKO-KRAŠKA STATISTIČNA REGIJA</th>\n",
       "      <td>6</td>\n",
       "    </tr>\n",
       "    <tr>\n",
       "      <th>SPODNJEPOSAVSKA STATISTIČNA REGIJA</th>\n",
       "      <td>4</td>\n",
       "    </tr>\n",
       "    <tr>\n",
       "      <th>ZASAVSKA STATISTIČNA REGIJA</th>\n",
       "      <td>3</td>\n",
       "    </tr>\n",
       "    <tr>\n",
       "      <th>Jugovzhodna Slovenija</th>\n",
       "      <td>1</td>\n",
       "    </tr>\n",
       "  </tbody>\n",
       "</table>\n",
       "</div>"
      ],
      "text/plain": [
       "                                      obcina\n",
       "regija                                      \n",
       "PODRAVSKA STATISTIČNA REGIJA              41\n",
       "SAVINJSKA STATISTIČNA REGIJA              33\n",
       "POMURSKA STATISTIČNA REGIJA               27\n",
       "OSREDNJESLOVENSKA STATISTIČNA REGIJA      26\n",
       "JUGOVZHODNA SLOVENIJA                     20\n",
       "GORENJSKA STATISTIČNA REGIJA              18\n",
       "GORIŠKA STATISTIČNA REGIJA                13\n",
       "KOROŠKA STATISTIČNA REGIJA                12\n",
       "OBALNO-KRAŠKA STATISTIČNA REGIJA           8\n",
       "NOTRANJSKO-KRAŠKA STATISTIČNA REGIJA       6\n",
       "SPODNJEPOSAVSKA STATISTIČNA REGIJA         4\n",
       "ZASAVSKA STATISTIČNA REGIJA                3\n",
       "Jugovzhodna Slovenija                      1"
      ]
     },
     "execution_count": 41,
     "metadata": {},
     "output_type": "execute_result"
    }
   ],
   "source": [
    "regije.sort_values('obcina', ascending=[False])"
   ]
  },
  {
   "cell_type": "code",
   "execution_count": 42,
   "metadata": {
    "scrolled": true
   },
   "outputs": [
    {
     "data": {
      "text/plain": [
       "<matplotlib.axes._subplots.AxesSubplot at 0x804ae30>"
      ]
     },
     "execution_count": 42,
     "metadata": {},
     "output_type": "execute_result"
    },
    {
     "data": {
      "image/png": "[encoded data removed]",
      "text/plain": [
       "<matplotlib.figure.Figure at 0x7feddd0>"
      ]
     },
     "metadata": {},
     "output_type": "display_data"
    }
   ],
   "source": [
    "regije.plot(kind='bar')"
   ]
  },
  {
   "cell_type": "markdown",
   "metadata": {},
   "source": [
    "Zanima me gostota naseljenosti prebivalstva znotraj posamezne občine in primerjava z številom naselij. So občine z večjim številom naselij gosteje poseljene ?"
   ]
  },
  {
   "cell_type": "code",
   "execution_count": 43,
   "metadata": {
    "collapsed": true
   },
   "outputs": [],
   "source": [
    "naselja_1 = podatki_naselja[['obcina', 'prebivalci', 'povrsina']]"
   ]
  },
  {
   "cell_type": "code",
   "execution_count": 63,
   "metadata": {},
   "outputs": [
    {
     "data": {
      "text/html": [
       "<div>\n",
       "<style>\n",
       "    .dataframe thead tr:only-child th {\n",
       "        text-align: right;\n",
       "    }\n",
       "\n",
       "    .dataframe thead th {\n",
       "        text-align: left;\n",
       "    }\n",
       "\n",
       "    .dataframe tbody tr th {\n",
       "        vertical-align: top;\n",
       "    }\n",
       "</style>\n",
       "<table border=\"1\" class=\"dataframe\">\n",
       "  <thead>\n",
       "    <tr style=\"text-align: right;\">\n",
       "      <th></th>\n",
       "      <th>občina</th>\n",
       "      <th>prebivalci</th>\n",
       "      <th>površina</th>\n",
       "      <th>gostota</th>\n",
       "    </tr>\n",
       "  </thead>\n",
       "  <tbody>\n",
       "    <tr>\n",
       "      <th>0</th>\n",
       "      <td>Ajdovščina</td>\n",
       "      <td>18959</td>\n",
       "      <td>245</td>\n",
       "      <td>0</td>\n",
       "    </tr>\n",
       "    <tr>\n",
       "      <th>1</th>\n",
       "      <td>Ankaran</td>\n",
       "      <td>3219</td>\n",
       "      <td>8</td>\n",
       "      <td>0</td>\n",
       "    </tr>\n",
       "    <tr>\n",
       "      <th>2</th>\n",
       "      <td>Apače</td>\n",
       "      <td>3591</td>\n",
       "      <td>54</td>\n",
       "      <td>0</td>\n",
       "    </tr>\n",
       "    <tr>\n",
       "      <th>3</th>\n",
       "      <td>Beltinci</td>\n",
       "      <td>8264</td>\n",
       "      <td>62</td>\n",
       "      <td>0</td>\n",
       "    </tr>\n",
       "    <tr>\n",
       "      <th>4</th>\n",
       "      <td>Benedikt</td>\n",
       "      <td>2461</td>\n",
       "      <td>24</td>\n",
       "      <td>0</td>\n",
       "    </tr>\n",
       "    <tr>\n",
       "      <th>5</th>\n",
       "      <td>Bistrica ob Sotli</td>\n",
       "      <td>1382</td>\n",
       "      <td>31</td>\n",
       "      <td>0</td>\n",
       "    </tr>\n",
       "    <tr>\n",
       "      <th>6</th>\n",
       "      <td>Bled</td>\n",
       "      <td>8127</td>\n",
       "      <td>72</td>\n",
       "      <td>0</td>\n",
       "    </tr>\n",
       "    <tr>\n",
       "      <th>7</th>\n",
       "      <td>Bloke</td>\n",
       "      <td>1545</td>\n",
       "      <td>75</td>\n",
       "      <td>0</td>\n",
       "    </tr>\n",
       "  </tbody>\n",
       "</table>\n",
       "</div>"
      ],
      "text/plain": [
       "              občina  prebivalci  površina  gostota\n",
       "0         Ajdovščina       18959       245        0\n",
       "1            Ankaran        3219         8        0\n",
       "2              Apače        3591        54        0\n",
       "3           Beltinci        8264        62        0\n",
       "4           Benedikt        2461        24        0\n",
       "5  Bistrica ob Sotli        1382        31        0\n",
       "6               Bled        8127        72        0\n",
       "7              Bloke        1545        75        0"
      ]
     },
     "execution_count": 63,
     "metadata": {},
     "output_type": "execute_result"
    }
   ],
   "source": [
    "naselja_1.head(8)"
   ]
  },
  {
   "cell_type": "code",
   "execution_count": 45,
   "metadata": {},
   "outputs": [
    {
     "ename": "IndentationError",
     "evalue": "expected an indented block (<ipython-input-45-fd885937a6a5>, line 31)",
     "output_type": "error",
     "traceback": [
      "\u001b[1;36m  File \u001b[1;32m\"<ipython-input-45-fd885937a6a5>\"\u001b[1;36m, line \u001b[1;32m31\u001b[0m\n\u001b[1;33m    return prebivalci / povrsina\u001b[0m\n\u001b[1;37m         ^\u001b[0m\n\u001b[1;31mIndentationError\u001b[0m\u001b[1;31m:\u001b[0m expected an indented block\n"
     ]
    }
   ],
   "source": [
    "    \n",
    "st_prebivalci = [18959, 3219, 3591, 8264, 2461, 1382, 8127, 1545, 5146, 4250, 3134, 5447, 5662, 11884, 24184, 1834, 48773,\n",
    "                 7364, 11387, 4687, 2058, 2339, 4016, 3362, 14591, 2564, 3953, 994, 3936, 2164, 7573, 1280, 5861, 3388,\n",
    "                 35039, 2916, 8879, 6776, 7380, 3980, 2815, 8504, 2573, 2078, 2192, 19977, 3740, 11188, 367, 2950, 9440,\n",
    "                 4325, 11926, 7135, 13719, 16141, 15867, 21042, 645, 2364, 29431, 5502, 6515, 4135, 591, 16075, 3560, 5932,\n",
    "                 50902, 2455, 646, 3095, 55857, 5305, 3693, 25835, 4804, 1603, 13260, 8236, 10575, 15064, 287218, 2601,\n",
    "                 3636, 13763, 3866, 1878, 3116, 1481, 5674, 3952, 2036, 112325, 3989, 15963, 7630, 8400, 3623, 6460, 4826,\n",
    "                 2523, 2873, 4593, 3029, 5211, 5853, 4067, 18973, 3399, 5299, 2581, 31787, 36371, 1651, 4046, 12408, 374,\n",
    "                 7516, 17857, 6039, 3318, 1814, 2400, 4453, 6084, 15982, 4999, 3579, 6780, 23153, 6014, 7074, 4282, 5199,\n",
    "                 6256, 18892, 11343, 1287, 2350, 4297, 9321, 1175, 11026, 3134, 3097, 7163, 4521, 3799, 17481, 13090, 16785,\n",
    "                 25373, 14598, 2190, 504, 2039, 4065, 3807, 2325, 2052, 1164, 2887, 2083, 2052, 1459, 6280, 8554, 8391, 6990,\n",
    "                 19004, 2900, 3224, 22912, 10278, 10184, 3265, 3228, 5498, 8710, 4263, 1655, 4084, 11385, 16490, 12181, 1316,\n",
    "                 3858, 14994, 3286, 32751, 1439, 4188, 1295, 5478, 5608, 2254, 4777, 8668, 2603, 16715, 2708, 16717, 1727,\n",
    "                 6379, 21264, 6742, 1324, 4827, 4370, 4548]\n",
    "\n",
    "povrsine = [245, 8, 54, 62, 24, 31, 72, 75, 334, 42, 367, 55, 72, 91, 268, 31, 95, 78, 241, 132, 25, 32, 34, 156, 340, 34,\n",
    "            145, 18, 103, 32, 118, 31, 33, 110, 72, 28, 105, 40, 153, 29, 116, 75, 90, 67, 37, 134, 22, 54, 18, 33, 59, 195,\n",
    "            294, 99, 480, 227, 29, 76, 69, 36, 266, 147, 72, 193, 20, 555, 103, 24, 303, 58, 56, 90, 151, 256, 46, 287, 49,\n",
    "            23, 198, 62, 123, 221, 275, 79, 107, 11, 173, 167, 135, 84, 110, 75, 73, 37, 148, 30, 78, 23, 109, 26, 13, 63,\n",
    "            29, 48, 112, 73, 61, 145, 54, 64, 39, 28, 43, 280, 236, 7, 33, 142, 36, 76, 45, 223, 61, 46, 104, 38, 34, 270,\n",
    "            41, 87, 58, 67, 108, 51, 52, 34, 94, 119, 63, 10, 30, 30, 154, 59, 72, 40, 40, 61, 65, 147, 272, 217, 174, 260,\n",
    "            98, 50, 103, 33, 34, 29, 37, 26, 18, 51, 31, 38, 58, 15, 40, 65, 96, 222, 49, 60, 146, 43, 108, 34, 18, 95, 96,\n",
    "            28, 35, 39, 382, 58, 195, 23, 9, 155, 24, 84, 19, 103, 12, 80, 107, 59, 31, 75, 53, 115, 50, 147, 19, 67, 117,\n",
    "            164, 38, 49, 43, 164]\n",
    "\n",
    "\n",
    "\n",
    "ret = list(zip(st_prebivalci, povrsine))\n",
    "\n",
    "def valuation_formula(prebivalci, povrsina):\n",
    "    return prebivalci / povrsina\n",
    "\n",
    "print naselja_1.apply(valuation_formula, axis=1).head()\n"
   ]
  },
  {
   "cell_type": "code",
   "execution_count": null,
   "metadata": {
    "collapsed": true
   },
   "outputs": [],
   "source": [
    "naselja_1['gostota'] = naselja_1.apply(lambda row: valuation_formula(row['prebivalci'], row['povrsina']), axis=1)\n"
   ]
  },
  {
   "cell_type": "code",
   "execution_count": null,
   "metadata": {
    "collapsed": true
   },
   "outputs": [],
   "source": [
    "for index, row in naselja_1.iterrows():\n",
    "    print(row['povrsina'])"
   ]
  },
  {
   "cell_type": "code",
   "execution_count": null,
   "metadata": {
    "collapsed": true
   },
   "outputs": [],
   "source": [
    "gostota"
   ]
  },
  {
   "cell_type": "code",
   "execution_count": null,
   "metadata": {
    "collapsed": true
   },
   "outputs": [],
   "source": [
    "naselja_2 = podatki_naselja[['regija', 'povrsina']].head(10)"
   ]
  },
  {
   "cell_type": "code",
   "execution_count": null,
   "metadata": {
    "collapsed": true
   },
   "outputs": [],
   "source": [
    "naselja_2.sort_values('povrsina', ascending=[False])"
   ]
  },
  {
   "cell_type": "raw",
   "metadata": {},
   "source": []
  },
  {
   "cell_type": "code",
   "execution_count": null,
   "metadata": {
    "collapsed": true
   },
   "outputs": [],
   "source": []
  }
 ],
 "metadata": {
  "celltoolbar": "Raw Cell Format",
  "kernelspec": {
   "display_name": "Python 3",
   "language": "python",
   "name": "python3"
  },
  "language_info": {
   "codemirror_mode": {
    "name": "ipython",
    "version": 3
   },
   "file_extension": ".py",
   "mimetype": "text/x-python",
   "name": "python",
   "nbconvert_exporter": "python",
   "pygments_lexer": "ipython3",
   "version": "3.6.1"
  }
 },
 "nbformat": 4,
 "nbformat_minor": 1
}
