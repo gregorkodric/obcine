{
 "cells": [
  {
   "cell_type": "markdown",
   "metadata": {},
   "source": [
    "# Občine\n",
    "\n",
    "\n",
    "Analiza podatkov o občinah.\n",
    "\n",
    "## Župani\n"
   ]
  },
  {
   "cell_type": "code",
   "execution_count": 2,
   "metadata": {
    "collapsed": false
   },
   "outputs": [
    {
     "name": "stderr",
     "output_type": "stream",
     "text": [
      "c:\\program files (x86)\\python35-32\\lib\\site-packages\\IPython\\core\\interactiveshell.py:2881: FutureWarning: \n",
      "mpl_style had been deprecated and will be removed in a future version.\n",
      "Use `matplotlib.pyplot.style.use` instead.\n",
      "\n",
      "  exec(code_obj, self.user_global_ns, self.user_ns)\n"
     ]
    }
   ],
   "source": [
    "%matplotlib inline\n",
    "import pandas as pd\n",
    "import matplotlib.pyplot as plt\n",
    "pd.set_option('display.mpl_style', 'default')\n",
    "pd.set_option('display.width', 5000) \n",
    "pd.set_option('display.max_columns', 60)\n",
    "plt.rcParams['figure.figsize'] = (15, 5)\n",
    "\n",
    "seznam_obcin = pd.read_csv('csv-datoteke/index.csv')\n",
    "podatki_2014 = pd.read_csv('csv-datoteke/2010-2014.csv')\n",
    "podatki_brez_2010 = pd.read_csv('csv-datoteke/2006-2010.csv')\n",
    "podatki_2006 = pd.read_csv('csv-datoteke/2002-2006.csv')\n",
    "podatki_2002 = pd.read_csv('csv-datoteke/1998-2002.csv')\n",
    "podatki_1998 = pd.read_csv('csv-datoteke/1994-1998.csv')\n",
    "podatki_naselja = pd.read_csv('csv-datoteke/naselja.csv')\n",
    "pd.options.display.max_rows = 30"
   ]
  },
  {
   "cell_type": "markdown",
   "metadata": {},
   "source": [
    "**Tabela županov, ki so dobili dva zaporedna mandata za obdobje 2014-2018 in 2010-2014.**"
   ]
  },
  {
   "cell_type": "markdown",
   "metadata": {},
   "source": [
    "**Tabela županov, ki so dobili dva zaporedna mandata za obdobje 2006-2010 in 2010-2014.**"
   ]
  },
  {
   "cell_type": "code",
   "execution_count": 3,
   "metadata": {
    "collapsed": false
   },
   "outputs": [],
   "source": [
    "mandat_2 = pd.merge(podatki_2014[['obcina', 'zupan']], podatki_brez_2010, on='zupan', suffixes=('_2014', '_2010'))"
   ]
  },
  {
   "cell_type": "code",
   "execution_count": 4,
   "metadata": {
    "collapsed": false
   },
   "outputs": [
    {
     "data": {
      "text/html": [
       "<div>\n",
       "<table border=\"1\" class=\"dataframe\">\n",
       "  <thead>\n",
       "    <tr style=\"text-align: right;\">\n",
       "      <th></th>\n",
       "      <th>obcina_2014</th>\n",
       "      <th>zupan</th>\n",
       "      <th>obcina_2010</th>\n",
       "    </tr>\n",
       "  </thead>\n",
       "  <tbody>\n",
       "    <tr>\n",
       "      <th>0</th>\n",
       "      <td>Občina Ajdovščina</td>\n",
       "      <td>Marjan Poljšak</td>\n",
       "      <td>Občina Ajdovščina</td>\n",
       "    </tr>\n",
       "    <tr>\n",
       "      <th>1</th>\n",
       "      <td>Občina Benedikt</td>\n",
       "      <td>Milan Gumzar</td>\n",
       "      <td>Občina Benedikt</td>\n",
       "    </tr>\n",
       "    <tr>\n",
       "      <th>2</th>\n",
       "      <td>Občina Bled</td>\n",
       "      <td>Janez Fajfar</td>\n",
       "      <td>Občina Bled</td>\n",
       "    </tr>\n",
       "    <tr>\n",
       "      <th>3</th>\n",
       "      <td>Občina Bloke</td>\n",
       "      <td>Jože Doles</td>\n",
       "      <td>Občina Bloke</td>\n",
       "    </tr>\n",
       "    <tr>\n",
       "      <th>4</th>\n",
       "      <td>Občina Bohinj</td>\n",
       "      <td>Franc Kramar</td>\n",
       "      <td>Občina Bohinj</td>\n",
       "    </tr>\n",
       "    <tr>\n",
       "      <th>5</th>\n",
       "      <td>Občina Borovnica</td>\n",
       "      <td>Andrej Ocepek</td>\n",
       "      <td>Občina Borovnica</td>\n",
       "    </tr>\n",
       "    <tr>\n",
       "      <th>6</th>\n",
       "      <td>Občina Bovec</td>\n",
       "      <td>Danijel Krivec</td>\n",
       "      <td>Občina Bovec</td>\n",
       "    </tr>\n",
       "    <tr>\n",
       "      <th>7</th>\n",
       "      <td>Občina Brda</td>\n",
       "      <td>Franc Mužič</td>\n",
       "      <td>Občina Brda</td>\n",
       "    </tr>\n",
       "    <tr>\n",
       "      <th>8</th>\n",
       "      <td>Občina Brezovica</td>\n",
       "      <td>Metod Ropret</td>\n",
       "      <td>Občina Brezovica</td>\n",
       "    </tr>\n",
       "    <tr>\n",
       "      <th>9</th>\n",
       "      <td>Občina Brežice</td>\n",
       "      <td>Ivan Molan</td>\n",
       "      <td>Občina Brežice</td>\n",
       "    </tr>\n",
       "  </tbody>\n",
       "</table>\n",
       "</div>"
      ],
      "text/plain": [
       "         obcina_2014           zupan        obcina_2010\n",
       "0  Občina Ajdovščina  Marjan Poljšak  Občina Ajdovščina\n",
       "1    Občina Benedikt    Milan Gumzar    Občina Benedikt\n",
       "2        Občina Bled    Janez Fajfar        Občina Bled\n",
       "3       Občina Bloke      Jože Doles       Občina Bloke\n",
       "4      Občina Bohinj    Franc Kramar      Občina Bohinj\n",
       "5   Občina Borovnica   Andrej Ocepek   Občina Borovnica\n",
       "6       Občina Bovec  Danijel Krivec       Občina Bovec\n",
       "7        Občina Brda     Franc Mužič        Občina Brda\n",
       "8   Občina Brezovica    Metod Ropret   Občina Brezovica\n",
       "9     Občina Brežice      Ivan Molan     Občina Brežice"
      ]
     },
     "execution_count": 4,
     "metadata": {},
     "output_type": "execute_result"
    }
   ],
   "source": [
    "mandat_2.head(10)"
   ]
  },
  {
   "cell_type": "code",
   "execution_count": 5,
   "metadata": {
    "collapsed": false
   },
   "outputs": [
    {
     "data": {
      "text/plain": [
       "zupan    141\n",
       "dtype: int64"
      ]
     },
     "execution_count": 5,
     "metadata": {},
     "output_type": "execute_result"
    }
   ],
   "source": [
    "mandat_2[['zupan']].count()"
   ]
  },
  {
   "cell_type": "code",
   "execution_count": 5,
   "metadata": {
    "collapsed": false
   },
   "outputs": [
    {
     "data": {
      "text/plain": [
       "zupan    208\n",
       "dtype: int64"
      ]
     },
     "execution_count": 5,
     "metadata": {},
     "output_type": "execute_result"
    }
   ],
   "source": [
    "podatki_2014[['zupan']].count()"
   ]
  },
  {
   "cell_type": "code",
   "execution_count": 6,
   "metadata": {
    "collapsed": false
   },
   "outputs": [
    {
     "data": {
      "text/plain": [
       "zupan    210\n",
       "dtype: int64"
      ]
     },
     "execution_count": 6,
     "metadata": {},
     "output_type": "execute_result"
    }
   ],
   "source": [
    "podatki_brez_2010[['zupan']].count()"
   ]
  },
  {
   "cell_type": "code",
   "execution_count": 7,
   "metadata": {
    "collapsed": false
   },
   "outputs": [],
   "source": [
    "odstotek_zupanov = mandat_2[['zupan']].count() / podatki_2014[['zupan']].count()"
   ]
  },
  {
   "cell_type": "code",
   "execution_count": 8,
   "metadata": {
    "collapsed": false
   },
   "outputs": [
    {
     "data": {
      "text/plain": [
       "zupan    0.677885\n",
       "dtype: float64"
      ]
     },
     "execution_count": 8,
     "metadata": {},
     "output_type": "execute_result"
    }
   ],
   "source": [
    "odstotek_zupanov"
   ]
  },
  {
   "cell_type": "markdown",
   "metadata": {},
   "source": [
    "Združil sem tabeli podatki_2014 in podatki_brez_2010 po stolpcu zupan in tako dobil tabelo vseh županov, ki so bili dva mandata na oblasti. Nato sem delil število županov z dvema mandatoma s številom vseh županov in dobil delež teh županov."
   ]
  },
  {
   "cell_type": "markdown",
   "metadata": {},
   "source": [
    "**Tabela županov, ki so dobili dva zaporedna mandata za obdobje 2002-2006 in 2006-2010.**"
   ]
  },
  {
   "cell_type": "code",
   "execution_count": 9,
   "metadata": {
    "collapsed": false
   },
   "outputs": [],
   "source": [
    "mandat_3 = pd.merge(podatki_brez_2010, podatki_2006[['obcina', 'zupan']], on='zupan', suffixes=('_2010', '_2006'))"
   ]
  },
  {
   "cell_type": "code",
   "execution_count": 10,
   "metadata": {
    "collapsed": false
   },
   "outputs": [
    {
     "data": {
      "text/html": [
       "<div>\n",
       "<table border=\"1\" class=\"dataframe\">\n",
       "  <thead>\n",
       "    <tr style=\"text-align: right;\">\n",
       "      <th></th>\n",
       "      <th>obcina_2010</th>\n",
       "      <th>zupan</th>\n",
       "      <th>obcina_2006</th>\n",
       "    </tr>\n",
       "  </thead>\n",
       "  <tbody>\n",
       "    <tr>\n",
       "      <th>0</th>\n",
       "      <td>Občina Ajdovščina</td>\n",
       "      <td>Marjan Poljšak</td>\n",
       "      <td>Občina Ajdovščina</td>\n",
       "    </tr>\n",
       "    <tr>\n",
       "      <th>1</th>\n",
       "      <td>Občina Beltinci</td>\n",
       "      <td>Milan Kerman</td>\n",
       "      <td>Občina Beltinci</td>\n",
       "    </tr>\n",
       "    <tr>\n",
       "      <th>2</th>\n",
       "      <td>Občina Benedikt</td>\n",
       "      <td>Milan Gumzar</td>\n",
       "      <td>Občina Benedikt</td>\n",
       "    </tr>\n",
       "    <tr>\n",
       "      <th>3</th>\n",
       "      <td>Občina Bistrica ob Sotli</td>\n",
       "      <td>Jožef Pregrad</td>\n",
       "      <td>Občina Bistrica ob Sotli</td>\n",
       "    </tr>\n",
       "    <tr>\n",
       "      <th>4</th>\n",
       "      <td>Občina Bloke</td>\n",
       "      <td>Jože Doles</td>\n",
       "      <td>Občina Bloke</td>\n",
       "    </tr>\n",
       "    <tr>\n",
       "      <th>5</th>\n",
       "      <td>Občina Braslovče</td>\n",
       "      <td>Marko Balant</td>\n",
       "      <td>Občina Braslovče</td>\n",
       "    </tr>\n",
       "    <tr>\n",
       "      <th>6</th>\n",
       "      <td>Občina Brda</td>\n",
       "      <td>Franc Mužič</td>\n",
       "      <td>Občina Brda</td>\n",
       "    </tr>\n",
       "    <tr>\n",
       "      <th>7</th>\n",
       "      <td>Občina Cankova</td>\n",
       "      <td>Drago Vogrinčič</td>\n",
       "      <td>Občina Cankova</td>\n",
       "    </tr>\n",
       "    <tr>\n",
       "      <th>8</th>\n",
       "      <td>Mestna občina Celje</td>\n",
       "      <td>Bojan Šrot</td>\n",
       "      <td>Mestna občina Celje</td>\n",
       "    </tr>\n",
       "    <tr>\n",
       "      <th>9</th>\n",
       "      <td>Občina Cerklje na Gorenjskem</td>\n",
       "      <td>Franc Čebulj</td>\n",
       "      <td>Občina Cerklje na Gorenjskem</td>\n",
       "    </tr>\n",
       "  </tbody>\n",
       "</table>\n",
       "</div>"
      ],
      "text/plain": [
       "                    obcina_2010            zupan                   obcina_2006\n",
       "0             Občina Ajdovščina   Marjan Poljšak             Občina Ajdovščina\n",
       "1               Občina Beltinci     Milan Kerman               Občina Beltinci\n",
       "2               Občina Benedikt     Milan Gumzar               Občina Benedikt\n",
       "3      Občina Bistrica ob Sotli    Jožef Pregrad      Občina Bistrica ob Sotli\n",
       "4                  Občina Bloke       Jože Doles                  Občina Bloke\n",
       "5              Občina Braslovče     Marko Balant              Občina Braslovče\n",
       "6                   Občina Brda      Franc Mužič                   Občina Brda\n",
       "7                Občina Cankova  Drago Vogrinčič                Občina Cankova\n",
       "8           Mestna občina Celje       Bojan Šrot           Mestna občina Celje\n",
       "9  Občina Cerklje na Gorenjskem     Franc Čebulj  Občina Cerklje na Gorenjskem"
      ]
     },
     "execution_count": 10,
     "metadata": {},
     "output_type": "execute_result"
    }
   ],
   "source": [
    "mandat_3.head(10)"
   ]
  },
  {
   "cell_type": "code",
   "execution_count": 11,
   "metadata": {
    "collapsed": false
   },
   "outputs": [
    {
     "data": {
      "text/plain": [
       "zupan    120\n",
       "dtype: int64"
      ]
     },
     "execution_count": 11,
     "metadata": {},
     "output_type": "execute_result"
    }
   ],
   "source": [
    "mandat_3[['zupan']].count()"
   ]
  },
  {
   "cell_type": "code",
   "execution_count": 12,
   "metadata": {
    "collapsed": false
   },
   "outputs": [
    {
     "data": {
      "text/plain": [
       "zupan    210\n",
       "dtype: int64"
      ]
     },
     "execution_count": 12,
     "metadata": {},
     "output_type": "execute_result"
    }
   ],
   "source": [
    "podatki_brez_2010[['zupan']].count()"
   ]
  },
  {
   "cell_type": "code",
   "execution_count": 13,
   "metadata": {
    "collapsed": false
   },
   "outputs": [
    {
     "data": {
      "text/plain": [
       "zupan    192\n",
       "dtype: int64"
      ]
     },
     "execution_count": 13,
     "metadata": {},
     "output_type": "execute_result"
    }
   ],
   "source": [
    "podatki_2006[['zupan']].count()"
   ]
  },
  {
   "cell_type": "code",
   "execution_count": 14,
   "metadata": {
    "collapsed": true
   },
   "outputs": [],
   "source": [
    "odstotek_zupanov_2 = mandat_3[['zupan']].count() / podatki_2006[['zupan']].count()"
   ]
  },
  {
   "cell_type": "code",
   "execution_count": 15,
   "metadata": {
    "collapsed": false
   },
   "outputs": [
    {
     "data": {
      "text/plain": [
       "zupan    0.625\n",
       "dtype: float64"
      ]
     },
     "execution_count": 15,
     "metadata": {},
     "output_type": "execute_result"
    }
   ],
   "source": [
    "odstotek_zupanov_2"
   ]
  },
  {
   "cell_type": "markdown",
   "metadata": {},
   "source": [
    "**Tabela županov, ki so dobili dva zaporedna mandata za obdobje 1998-2002 in 2002-2006.**"
   ]
  },
  {
   "cell_type": "code",
   "execution_count": 16,
   "metadata": {
    "collapsed": false
   },
   "outputs": [],
   "source": [
    "mandat_4 = pd.merge(podatki_2006[['obcina', 'zupan']], podatki_2002[['obcina', 'zupan']], on='zupan', suffixes=('_2006', '_2002'))"
   ]
  },
  {
   "cell_type": "code",
   "execution_count": 17,
   "metadata": {
    "collapsed": false
   },
   "outputs": [
    {
     "data": {
      "text/html": [
       "<div>\n",
       "<table border=\"1\" class=\"dataframe\">\n",
       "  <thead>\n",
       "    <tr style=\"text-align: right;\">\n",
       "      <th></th>\n",
       "      <th>obcina_2006</th>\n",
       "      <th>zupan</th>\n",
       "      <th>obcina_2002</th>\n",
       "    </tr>\n",
       "  </thead>\n",
       "  <tbody>\n",
       "    <tr>\n",
       "      <th>0</th>\n",
       "      <td>Občina Benedikt</td>\n",
       "      <td>Milan Gumzar</td>\n",
       "      <td>Občina Benedikt</td>\n",
       "    </tr>\n",
       "    <tr>\n",
       "      <th>1</th>\n",
       "      <td>Občina Bistrica ob Sotli</td>\n",
       "      <td>Jožef Pregrad</td>\n",
       "      <td>Občina Bistrica ob Sotli</td>\n",
       "    </tr>\n",
       "    <tr>\n",
       "      <th>2</th>\n",
       "      <td>Občina Bloke</td>\n",
       "      <td>Jože Doles</td>\n",
       "      <td>Občina Bloke</td>\n",
       "    </tr>\n",
       "    <tr>\n",
       "      <th>3</th>\n",
       "      <td>Občina Borovnica</td>\n",
       "      <td>Alojz Močnik</td>\n",
       "      <td>Občina Borovnica</td>\n",
       "    </tr>\n",
       "    <tr>\n",
       "      <th>4</th>\n",
       "      <td>Občina Brda</td>\n",
       "      <td>Franc Mužič</td>\n",
       "      <td>Občina Brda</td>\n",
       "    </tr>\n",
       "    <tr>\n",
       "      <th>5</th>\n",
       "      <td>Občina Brezovica</td>\n",
       "      <td>Drago Stanovnik</td>\n",
       "      <td>Občina Brezovica</td>\n",
       "    </tr>\n",
       "    <tr>\n",
       "      <th>6</th>\n",
       "      <td>Mestna občina Celje</td>\n",
       "      <td>Bojan Šrot</td>\n",
       "      <td>Mestna občina Celje</td>\n",
       "    </tr>\n",
       "    <tr>\n",
       "      <th>7</th>\n",
       "      <td>Občina Cerklje na Gorenjskem</td>\n",
       "      <td>Franc Čebulj</td>\n",
       "      <td>Občina Cerklje na Gorenjskem</td>\n",
       "    </tr>\n",
       "    <tr>\n",
       "      <th>8</th>\n",
       "      <td>Občina Cerkno</td>\n",
       "      <td>Jurij Kavčič</td>\n",
       "      <td>Občina Cerkno</td>\n",
       "    </tr>\n",
       "    <tr>\n",
       "      <th>9</th>\n",
       "      <td>Občina Cerkvenjak</td>\n",
       "      <td>Jože Kraner</td>\n",
       "      <td>Občina Cerkvenjak</td>\n",
       "    </tr>\n",
       "  </tbody>\n",
       "</table>\n",
       "</div>"
      ],
      "text/plain": [
       "                    obcina_2006            zupan                   obcina_2002\n",
       "0               Občina Benedikt     Milan Gumzar               Občina Benedikt\n",
       "1      Občina Bistrica ob Sotli    Jožef Pregrad      Občina Bistrica ob Sotli\n",
       "2                  Občina Bloke       Jože Doles                  Občina Bloke\n",
       "3              Občina Borovnica     Alojz Močnik              Občina Borovnica\n",
       "4                   Občina Brda      Franc Mužič                   Občina Brda\n",
       "5              Občina Brezovica  Drago Stanovnik              Občina Brezovica\n",
       "6           Mestna občina Celje       Bojan Šrot           Mestna občina Celje\n",
       "7  Občina Cerklje na Gorenjskem     Franc Čebulj  Občina Cerklje na Gorenjskem\n",
       "8                 Občina Cerkno     Jurij Kavčič                 Občina Cerkno\n",
       "9             Občina Cerkvenjak      Jože Kraner             Občina Cerkvenjak"
      ]
     },
     "execution_count": 17,
     "metadata": {},
     "output_type": "execute_result"
    }
   ],
   "source": [
    "mandat_4.head(10)"
   ]
  },
  {
   "cell_type": "code",
   "execution_count": 18,
   "metadata": {
    "collapsed": false
   },
   "outputs": [
    {
     "data": {
      "text/plain": [
       "zupan    134\n",
       "dtype: int64"
      ]
     },
     "execution_count": 18,
     "metadata": {},
     "output_type": "execute_result"
    }
   ],
   "source": [
    "mandat_4[['zupan']].count()"
   ]
  },
  {
   "cell_type": "code",
   "execution_count": 19,
   "metadata": {
    "collapsed": false
   },
   "outputs": [
    {
     "data": {
      "text/plain": [
       "zupan    192\n",
       "dtype: int64"
      ]
     },
     "execution_count": 19,
     "metadata": {},
     "output_type": "execute_result"
    }
   ],
   "source": [
    "podatki_2006[['zupan']].count()"
   ]
  },
  {
   "cell_type": "code",
   "execution_count": 20,
   "metadata": {
    "collapsed": false
   },
   "outputs": [
    {
     "data": {
      "text/plain": [
       "zupan    192\n",
       "dtype: int64"
      ]
     },
     "execution_count": 20,
     "metadata": {},
     "output_type": "execute_result"
    }
   ],
   "source": [
    "podatki_2002[['zupan']].count()"
   ]
  },
  {
   "cell_type": "code",
   "execution_count": 20,
   "metadata": {
    "collapsed": true
   },
   "outputs": [],
   "source": [
    "odstotek_zupanov_3 = mandat_4[['zupan']].count() / podatki_2002[['zupan']].count()"
   ]
  },
  {
   "cell_type": "code",
   "execution_count": 21,
   "metadata": {
    "collapsed": false
   },
   "outputs": [
    {
     "data": {
      "text/plain": [
       "zupan    0.697917\n",
       "dtype: float64"
      ]
     },
     "execution_count": 21,
     "metadata": {},
     "output_type": "execute_result"
    }
   ],
   "source": [
    "odstotek_zupanov_3"
   ]
  },
  {
   "cell_type": "markdown",
   "metadata": {},
   "source": [
    "Iz izračunov vidimo, da se procent županov z dvema zaporednima mandatoma ni veliko spreminjal med leti. Ta odstotek varira nekje med 60 % in 70 %. Torej volilci zaupajo približno dva mandata zapored 2 / 3 županov.S primerjavo tabel lahko opazimo, da so med njimi tudi župani, ki so vsaj 3 ali več zaporednih mandatov na oblasti."
   ]
  },
  {
   "cell_type": "code",
   "execution_count": 33,
   "metadata": {
    "collapsed": true
   },
   "outputs": [],
   "source": [
    "mandat_5=pd.merge(podatki_2002[['obcina', 'zupan']], podatki_1998[['obcina', 'zupan']], on='zupan', suffixes=('_2002', '_1998'))"
   ]
  },
  {
   "cell_type": "code",
   "execution_count": 34,
   "metadata": {
    "collapsed": false
   },
   "outputs": [
    {
     "data": {
      "text/html": [
       "<div>\n",
       "<table border=\"1\" class=\"dataframe\">\n",
       "  <thead>\n",
       "    <tr style=\"text-align: right;\">\n",
       "      <th></th>\n",
       "      <th>obcina_2002</th>\n",
       "      <th>zupan</th>\n",
       "      <th>obcina_1998</th>\n",
       "    </tr>\n",
       "  </thead>\n",
       "  <tbody>\n",
       "    <tr>\n",
       "      <th>0</th>\n",
       "      <td>Občina Beltinci</td>\n",
       "      <td>Jožef Kavaš</td>\n",
       "      <td>Občina Beltinci</td>\n",
       "    </tr>\n",
       "    <tr>\n",
       "      <th>1</th>\n",
       "      <td>Občina Bohinj</td>\n",
       "      <td>Franc Kramar</td>\n",
       "      <td>Občina Bohinj</td>\n",
       "    </tr>\n",
       "    <tr>\n",
       "      <th>2</th>\n",
       "      <td>Občina Brda</td>\n",
       "      <td>Franc Mužič</td>\n",
       "      <td>Občina Brda</td>\n",
       "    </tr>\n",
       "    <tr>\n",
       "      <th>3</th>\n",
       "      <td>Občina Brezovica</td>\n",
       "      <td>Drago Stanovnik</td>\n",
       "      <td>Občina Brezovica</td>\n",
       "    </tr>\n",
       "    <tr>\n",
       "      <th>4</th>\n",
       "      <td>Občina Cerklje na Gorenjskem</td>\n",
       "      <td>Franc Čebulj</td>\n",
       "      <td>Občina Cerklje na Gorenjskem</td>\n",
       "    </tr>\n",
       "    <tr>\n",
       "      <th>5</th>\n",
       "      <td>Občina Cerknica</td>\n",
       "      <td>Valentin Schein</td>\n",
       "      <td>Občina Cerknica</td>\n",
       "    </tr>\n",
       "    <tr>\n",
       "      <th>6</th>\n",
       "      <td>Občina Črna na Koroškem</td>\n",
       "      <td>Franc Stakne</td>\n",
       "      <td>Občina Črna na Koroškem</td>\n",
       "    </tr>\n",
       "    <tr>\n",
       "      <th>7</th>\n",
       "      <td>Občina Črnomelj</td>\n",
       "      <td>Andrej Fabjan</td>\n",
       "      <td>Občina Črnomelj</td>\n",
       "    </tr>\n",
       "    <tr>\n",
       "      <th>8</th>\n",
       "      <td>Občina Destrnik</td>\n",
       "      <td>Franc Pukšič</td>\n",
       "      <td>Občina Destrnik - Trnovska vas</td>\n",
       "    </tr>\n",
       "    <tr>\n",
       "      <th>9</th>\n",
       "      <td>Občina Divača</td>\n",
       "      <td>Rajko Vojtkovszky</td>\n",
       "      <td>Občina Divača</td>\n",
       "    </tr>\n",
       "  </tbody>\n",
       "</table>\n",
       "</div>"
      ],
      "text/plain": [
       "                    obcina_2002              zupan                     obcina_1998\n",
       "0               Občina Beltinci        Jožef Kavaš                 Občina Beltinci\n",
       "1                 Občina Bohinj       Franc Kramar                   Občina Bohinj\n",
       "2                   Občina Brda        Franc Mužič                     Občina Brda\n",
       "3              Občina Brezovica    Drago Stanovnik                Občina Brezovica\n",
       "4  Občina Cerklje na Gorenjskem       Franc Čebulj    Občina Cerklje na Gorenjskem\n",
       "5               Občina Cerknica    Valentin Schein                 Občina Cerknica\n",
       "6       Občina Črna na Koroškem       Franc Stakne         Občina Črna na Koroškem\n",
       "7               Občina Črnomelj      Andrej Fabjan                 Občina Črnomelj\n",
       "8               Občina Destrnik       Franc Pukšič  Občina Destrnik - Trnovska vas\n",
       "9                 Občina Divača  Rajko Vojtkovszky                   Občina Divača"
      ]
     },
     "execution_count": 34,
     "metadata": {},
     "output_type": "execute_result"
    }
   ],
   "source": [
    "mandat_5.head(10)"
   ]
  },
  {
   "cell_type": "code",
   "execution_count": 24,
   "metadata": {
    "collapsed": false
   },
   "outputs": [
    {
     "data": {
      "text/plain": [
       "zupan    81\n",
       "dtype: int64"
      ]
     },
     "execution_count": 24,
     "metadata": {},
     "output_type": "execute_result"
    }
   ],
   "source": [
    "mandat_5[['zupan']].count()"
   ]
  },
  {
   "cell_type": "code",
   "execution_count": 25,
   "metadata": {
    "collapsed": false
   },
   "outputs": [
    {
     "data": {
      "text/plain": [
       "zupan    192\n",
       "dtype: int64"
      ]
     },
     "execution_count": 25,
     "metadata": {},
     "output_type": "execute_result"
    }
   ],
   "source": [
    "podatki_2002[['zupan']].count()"
   ]
  },
  {
   "cell_type": "code",
   "execution_count": 26,
   "metadata": {
    "collapsed": false
   },
   "outputs": [
    {
     "data": {
      "text/plain": [
       "zupan    147\n",
       "dtype: int64"
      ]
     },
     "execution_count": 26,
     "metadata": {},
     "output_type": "execute_result"
    }
   ],
   "source": [
    "podatki_1998[['zupan']].count()"
   ]
  },
  {
   "cell_type": "code",
   "execution_count": 27,
   "metadata": {
    "collapsed": true
   },
   "outputs": [],
   "source": [
    "odstotek_zupanov_4 = mandat_5[['zupan']].count() / podatki_1998[['zupan']].count()"
   ]
  },
  {
   "cell_type": "code",
   "execution_count": 28,
   "metadata": {
    "collapsed": false
   },
   "outputs": [
    {
     "data": {
      "text/plain": [
       "zupan    0.55102\n",
       "dtype: float64"
      ]
     },
     "execution_count": 28,
     "metadata": {},
     "output_type": "execute_result"
    }
   ],
   "source": [
    "odstotek_zupanov_4"
   ]
  },
  {
   "cell_type": "raw",
   "metadata": {},
   "source": []
  },
  {
   "cell_type": "code",
   "execution_count": 70,
   "metadata": {
    "collapsed": false
   },
   "outputs": [
    {
     "data": {
      "text/html": [
       "<div>\n",
       "<table border=\"1\" class=\"dataframe\">\n",
       "  <thead>\n",
       "    <tr style=\"text-align: right;\">\n",
       "      <th></th>\n",
       "      <th>obcina</th>\n",
       "      <th>regija</th>\n",
       "      <th>naselje</th>\n",
       "      <th>prebivalci</th>\n",
       "      <th>povrsina</th>\n",
       "    </tr>\n",
       "  </thead>\n",
       "  <tbody>\n",
       "    <tr>\n",
       "      <th>0</th>\n",
       "      <td>Ajdovščina</td>\n",
       "      <td>GORIŠKA STATISTIČNA REGIJA</td>\n",
       "      <td>45</td>\n",
       "      <td>18959</td>\n",
       "      <td>245</td>\n",
       "    </tr>\n",
       "    <tr>\n",
       "      <th>1</th>\n",
       "      <td>Ankaran</td>\n",
       "      <td>OBALNO-KRAŠKA STATISTIČNA REGIJA</td>\n",
       "      <td>1</td>\n",
       "      <td>3219</td>\n",
       "      <td>8</td>\n",
       "    </tr>\n",
       "    <tr>\n",
       "      <th>2</th>\n",
       "      <td>Apače</td>\n",
       "      <td>POMURSKA STATISTIČNA REGIJA</td>\n",
       "      <td>21</td>\n",
       "      <td>3591</td>\n",
       "      <td>54</td>\n",
       "    </tr>\n",
       "    <tr>\n",
       "      <th>3</th>\n",
       "      <td>Beltinci</td>\n",
       "      <td>POMURSKA STATISTIČNA REGIJA</td>\n",
       "      <td>8</td>\n",
       "      <td>8264</td>\n",
       "      <td>62</td>\n",
       "    </tr>\n",
       "    <tr>\n",
       "      <th>4</th>\n",
       "      <td>Benedikt</td>\n",
       "      <td>PODRAVSKA STATISTIČNA REGIJA</td>\n",
       "      <td>13</td>\n",
       "      <td>2461</td>\n",
       "      <td>24</td>\n",
       "    </tr>\n",
       "    <tr>\n",
       "      <th>5</th>\n",
       "      <td>Bistrica ob Sotli</td>\n",
       "      <td>SAVINJSKA STATISTIČNA REGIJA</td>\n",
       "      <td>11</td>\n",
       "      <td>1382</td>\n",
       "      <td>31</td>\n",
       "    </tr>\n",
       "    <tr>\n",
       "      <th>6</th>\n",
       "      <td>Bled</td>\n",
       "      <td>GORENJSKA STATISTIČNA REGIJA</td>\n",
       "      <td>10</td>\n",
       "      <td>8127</td>\n",
       "      <td>72</td>\n",
       "    </tr>\n",
       "    <tr>\n",
       "      <th>7</th>\n",
       "      <td>Bloke</td>\n",
       "      <td>NOTRANJSKO-KRAŠKA STATISTIČNA REGIJA</td>\n",
       "      <td>45</td>\n",
       "      <td>1545</td>\n",
       "      <td>75</td>\n",
       "    </tr>\n",
       "    <tr>\n",
       "      <th>8</th>\n",
       "      <td>Bohinj</td>\n",
       "      <td>GORENJSKA STATISTIČNA REGIJA</td>\n",
       "      <td>24</td>\n",
       "      <td>5146</td>\n",
       "      <td>334</td>\n",
       "    </tr>\n",
       "    <tr>\n",
       "      <th>9</th>\n",
       "      <td>Borovnica</td>\n",
       "      <td>OSREDNJESLOVENSKA STATISTIČNA REGIJA</td>\n",
       "      <td>12</td>\n",
       "      <td>4250</td>\n",
       "      <td>42</td>\n",
       "    </tr>\n",
       "  </tbody>\n",
       "</table>\n",
       "</div>"
      ],
      "text/plain": [
       "              obcina                                regija  naselje  prebivalci  povrsina\n",
       "0         Ajdovščina            GORIŠKA STATISTIČNA REGIJA       45       18959       245\n",
       "1            Ankaran      OBALNO-KRAŠKA STATISTIČNA REGIJA        1        3219         8\n",
       "2              Apače           POMURSKA STATISTIČNA REGIJA       21        3591        54\n",
       "3           Beltinci           POMURSKA STATISTIČNA REGIJA        8        8264        62\n",
       "4           Benedikt          PODRAVSKA STATISTIČNA REGIJA       13        2461        24\n",
       "5  Bistrica ob Sotli          SAVINJSKA STATISTIČNA REGIJA       11        1382        31\n",
       "6               Bled          GORENJSKA STATISTIČNA REGIJA       10        8127        72\n",
       "7              Bloke  NOTRANJSKO-KRAŠKA STATISTIČNA REGIJA       45        1545        75\n",
       "8             Bohinj          GORENJSKA STATISTIČNA REGIJA       24        5146       334\n",
       "9          Borovnica  OSREDNJESLOVENSKA STATISTIČNA REGIJA       12        4250        42"
      ]
     },
     "execution_count": 70,
     "metadata": {},
     "output_type": "execute_result"
    }
   ],
   "source": [
    "podatki_naselja.head(10)"
   ]
  },
  {
   "cell_type": "markdown",
   "metadata": {},
   "source": [
    "**Spodaj je prikazano število občin v posamezni regiji.**\n",
    "V Sloveniji imamo 212 občin, kar je zelo veliko glede na velikost države.Iz tabele je razvidno, da je največ občin v Podravski regiji, najmanj pa v Zasavski regiji.\n",
    "Zanima me tudi, katera pokrajina ima največ občin(Primorska, Gorenjska, Dolenjska, Štajerska, Notranjska, Koroška, Prekmurje, Osrednjeslovenska). To je moja delitev na pokrajine, mednje sem dodal tudi Osrednjeslovensko pokrajino. Na nekaterih virih je samostojna pokrajina, na drugih pa je razdeljena med druge pokrajine. Zaradi lažjega dela, sem vzel tako delitev.\n",
    "* Koroška ima 12 občin\n",
    "* Dolenjska ima 25 občin\n",
    "* Gorenjska ima 18 občin\n",
    "* Prekmurje ima 27 občin\n",
    "* Osrednjeslovenska ima 26 občin\n",
    "* Primorska ima 21 občin\n",
    "* Notranjska ima 6 občin\n",
    "* Štajerska ima 77 občin\n",
    "\n",
    "Vidimo, da ima Štajerska daleč največ občin, kar je tudi pričakovano, saj je največja po površini."
   ]
  },
  {
   "cell_type": "code",
   "execution_count": 52,
   "metadata": {
    "collapsed": false
   },
   "outputs": [],
   "source": [
    "regije = podatki_naselja.groupby('regija')[['obcina']].count()"
   ]
  },
  {
   "cell_type": "code",
   "execution_count": 53,
   "metadata": {
    "collapsed": false
   },
   "outputs": [
    {
     "data": {
      "text/html": [
       "<div>\n",
       "<table border=\"1\" class=\"dataframe\">\n",
       "  <thead>\n",
       "    <tr style=\"text-align: right;\">\n",
       "      <th></th>\n",
       "      <th>obcina</th>\n",
       "    </tr>\n",
       "    <tr>\n",
       "      <th>regija</th>\n",
       "      <th></th>\n",
       "    </tr>\n",
       "  </thead>\n",
       "  <tbody>\n",
       "    <tr>\n",
       "      <th>PODRAVSKA STATISTIČNA REGIJA</th>\n",
       "      <td>41</td>\n",
       "    </tr>\n",
       "    <tr>\n",
       "      <th>SAVINJSKA STATISTIČNA REGIJA</th>\n",
       "      <td>33</td>\n",
       "    </tr>\n",
       "    <tr>\n",
       "      <th>POMURSKA STATISTIČNA REGIJA</th>\n",
       "      <td>27</td>\n",
       "    </tr>\n",
       "    <tr>\n",
       "      <th>OSREDNJESLOVENSKA STATISTIČNA REGIJA</th>\n",
       "      <td>26</td>\n",
       "    </tr>\n",
       "    <tr>\n",
       "      <th>JUGOVZHODNA SLOVENIJA</th>\n",
       "      <td>20</td>\n",
       "    </tr>\n",
       "    <tr>\n",
       "      <th>GORENJSKA STATISTIČNA REGIJA</th>\n",
       "      <td>18</td>\n",
       "    </tr>\n",
       "    <tr>\n",
       "      <th>GORIŠKA STATISTIČNA REGIJA</th>\n",
       "      <td>13</td>\n",
       "    </tr>\n",
       "    <tr>\n",
       "      <th>KOROŠKA STATISTIČNA REGIJA</th>\n",
       "      <td>12</td>\n",
       "    </tr>\n",
       "    <tr>\n",
       "      <th>OBALNO-KRAŠKA STATISTIČNA REGIJA</th>\n",
       "      <td>8</td>\n",
       "    </tr>\n",
       "    <tr>\n",
       "      <th>NOTRANJSKO-KRAŠKA STATISTIČNA REGIJA</th>\n",
       "      <td>6</td>\n",
       "    </tr>\n",
       "    <tr>\n",
       "      <th>SPODNJEPOSAVSKA STATISTIČNA REGIJA</th>\n",
       "      <td>4</td>\n",
       "    </tr>\n",
       "    <tr>\n",
       "      <th>ZASAVSKA STATISTIČNA REGIJA</th>\n",
       "      <td>3</td>\n",
       "    </tr>\n",
       "    <tr>\n",
       "      <th>Jugovzhodna Slovenija</th>\n",
       "      <td>1</td>\n",
       "    </tr>\n",
       "  </tbody>\n",
       "</table>\n",
       "</div>"
      ],
      "text/plain": [
       "                                      obcina\n",
       "regija                                      \n",
       "PODRAVSKA STATISTIČNA REGIJA              41\n",
       "SAVINJSKA STATISTIČNA REGIJA              33\n",
       "POMURSKA STATISTIČNA REGIJA               27\n",
       "OSREDNJESLOVENSKA STATISTIČNA REGIJA      26\n",
       "JUGOVZHODNA SLOVENIJA                     20\n",
       "GORENJSKA STATISTIČNA REGIJA              18\n",
       "GORIŠKA STATISTIČNA REGIJA                13\n",
       "KOROŠKA STATISTIČNA REGIJA                12\n",
       "OBALNO-KRAŠKA STATISTIČNA REGIJA           8\n",
       "NOTRANJSKO-KRAŠKA STATISTIČNA REGIJA       6\n",
       "SPODNJEPOSAVSKA STATISTIČNA REGIJA         4\n",
       "ZASAVSKA STATISTIČNA REGIJA                3\n",
       "Jugovzhodna Slovenija                      1"
      ]
     },
     "execution_count": 53,
     "metadata": {},
     "output_type": "execute_result"
    }
   ],
   "source": [
    "regije.sort_values('obcina', ascending=[False])"
   ]
  },
  {
   "cell_type": "code",
   "execution_count": 69,
   "metadata": {
    "collapsed": false,
    "scrolled": true
   },
   "outputs": [
    {
     "data": {
      "text/plain": [
       "<matplotlib.axes._subplots.AxesSubplot at 0x5a269b0>"
      ]
     },
     "execution_count": 69,
     "metadata": {},
     "output_type": "execute_result"
    },
    {
     "data": {
      "image/png": "[encoded data removed]",
      "text/plain": [
       "<matplotlib.figure.Figure at 0x5a09f10>"
      ]
     },
     "metadata": {},
     "output_type": "display_data"
    }
   ],
   "source": [
    "regije.plot(kind='bar')"
   ]
  },
  {
   "cell_type": "markdown",
   "metadata": {},
   "source": [
    "Zanima me gostota naseljenosti prebivalstva znotraj posamezne občine in primerjava z številom naselij. So občine z večjim številom naselij gosteje poseljene ?"
   ]
  },
  {
   "cell_type": "code",
   "execution_count": 41,
   "metadata": {
    "collapsed": false
   },
   "outputs": [],
   "source": [
    "naselja_1 = podatki_naselja[['obcina', 'prebivalci', 'povrsina']]"
   ]
  },
  {
   "cell_type": "code",
   "execution_count": 42,
   "metadata": {
    "collapsed": false
   },
   "outputs": [
    {
     "data": {
      "text/html": [
       "<div>\n",
       "<table border=\"1\" class=\"dataframe\">\n",
       "  <thead>\n",
       "    <tr style=\"text-align: right;\">\n",
       "      <th></th>\n",
       "      <th>obcina</th>\n",
       "      <th>prebivalci</th>\n",
       "      <th>povrsina</th>\n",
       "    </tr>\n",
       "  </thead>\n",
       "  <tbody>\n",
       "    <tr>\n",
       "      <th>0</th>\n",
       "      <td>Ajdovščina</td>\n",
       "      <td>18959</td>\n",
       "      <td>245</td>\n",
       "    </tr>\n",
       "    <tr>\n",
       "      <th>1</th>\n",
       "      <td>Ankaran</td>\n",
       "      <td>3219</td>\n",
       "      <td>8</td>\n",
       "    </tr>\n",
       "    <tr>\n",
       "      <th>2</th>\n",
       "      <td>Apače</td>\n",
       "      <td>3591</td>\n",
       "      <td>54</td>\n",
       "    </tr>\n",
       "    <tr>\n",
       "      <th>3</th>\n",
       "      <td>Beltinci</td>\n",
       "      <td>8264</td>\n",
       "      <td>62</td>\n",
       "    </tr>\n",
       "    <tr>\n",
       "      <th>4</th>\n",
       "      <td>Benedikt</td>\n",
       "      <td>2461</td>\n",
       "      <td>24</td>\n",
       "    </tr>\n",
       "    <tr>\n",
       "      <th>5</th>\n",
       "      <td>Bistrica ob Sotli</td>\n",
       "      <td>1382</td>\n",
       "      <td>31</td>\n",
       "    </tr>\n",
       "    <tr>\n",
       "      <th>6</th>\n",
       "      <td>Bled</td>\n",
       "      <td>8127</td>\n",
       "      <td>72</td>\n",
       "    </tr>\n",
       "    <tr>\n",
       "      <th>7</th>\n",
       "      <td>Bloke</td>\n",
       "      <td>1545</td>\n",
       "      <td>75</td>\n",
       "    </tr>\n",
       "    <tr>\n",
       "      <th>8</th>\n",
       "      <td>Bohinj</td>\n",
       "      <td>5146</td>\n",
       "      <td>334</td>\n",
       "    </tr>\n",
       "    <tr>\n",
       "      <th>9</th>\n",
       "      <td>Borovnica</td>\n",
       "      <td>4250</td>\n",
       "      <td>42</td>\n",
       "    </tr>\n",
       "  </tbody>\n",
       "</table>\n",
       "</div>"
      ],
      "text/plain": [
       "              obcina  prebivalci  povrsina\n",
       "0         Ajdovščina       18959       245\n",
       "1            Ankaran        3219         8\n",
       "2              Apače        3591        54\n",
       "3           Beltinci        8264        62\n",
       "4           Benedikt        2461        24\n",
       "5  Bistrica ob Sotli        1382        31\n",
       "6               Bled        8127        72\n",
       "7              Bloke        1545        75\n",
       "8             Bohinj        5146       334\n",
       "9          Borovnica        4250        42"
      ]
     },
     "execution_count": 42,
     "metadata": {},
     "output_type": "execute_result"
    }
   ],
   "source": [
    "naselja_1.head(10)"
   ]
  },
  {
   "cell_type": "code",
   "execution_count": 54,
   "metadata": {
    "collapsed": true
   },
   "outputs": [],
   "source": [
    "gostota = naselja_1[['prebivalci']] / naselja_1[['povrsina']]"
   ]
  },
  {
   "cell_type": "code",
   "execution_count": 55,
   "metadata": {
    "collapsed": false
   },
   "outputs": [
    {
     "data": {
      "text/html": [
       "<div>\n",
       "<table border=\"1\" class=\"dataframe\">\n",
       "  <thead>\n",
       "    <tr style=\"text-align: right;\">\n",
       "      <th></th>\n",
       "      <th>povrsina</th>\n",
       "      <th>prebivalci</th>\n",
       "    </tr>\n",
       "  </thead>\n",
       "  <tbody>\n",
       "    <tr>\n",
       "      <th>0</th>\n",
       "      <td>NaN</td>\n",
       "      <td>NaN</td>\n",
       "    </tr>\n",
       "    <tr>\n",
       "      <th>1</th>\n",
       "      <td>NaN</td>\n",
       "      <td>NaN</td>\n",
       "    </tr>\n",
       "    <tr>\n",
       "      <th>2</th>\n",
       "      <td>NaN</td>\n",
       "      <td>NaN</td>\n",
       "    </tr>\n",
       "    <tr>\n",
       "      <th>3</th>\n",
       "      <td>NaN</td>\n",
       "      <td>NaN</td>\n",
       "    </tr>\n",
       "    <tr>\n",
       "      <th>4</th>\n",
       "      <td>NaN</td>\n",
       "      <td>NaN</td>\n",
       "    </tr>\n",
       "    <tr>\n",
       "      <th>5</th>\n",
       "      <td>NaN</td>\n",
       "      <td>NaN</td>\n",
       "    </tr>\n",
       "    <tr>\n",
       "      <th>6</th>\n",
       "      <td>NaN</td>\n",
       "      <td>NaN</td>\n",
       "    </tr>\n",
       "    <tr>\n",
       "      <th>7</th>\n",
       "      <td>NaN</td>\n",
       "      <td>NaN</td>\n",
       "    </tr>\n",
       "    <tr>\n",
       "      <th>8</th>\n",
       "      <td>NaN</td>\n",
       "      <td>NaN</td>\n",
       "    </tr>\n",
       "    <tr>\n",
       "      <th>9</th>\n",
       "      <td>NaN</td>\n",
       "      <td>NaN</td>\n",
       "    </tr>\n",
       "    <tr>\n",
       "      <th>10</th>\n",
       "      <td>NaN</td>\n",
       "      <td>NaN</td>\n",
       "    </tr>\n",
       "    <tr>\n",
       "      <th>11</th>\n",
       "      <td>NaN</td>\n",
       "      <td>NaN</td>\n",
       "    </tr>\n",
       "    <tr>\n",
       "      <th>12</th>\n",
       "      <td>NaN</td>\n",
       "      <td>NaN</td>\n",
       "    </tr>\n",
       "    <tr>\n",
       "      <th>13</th>\n",
       "      <td>NaN</td>\n",
       "      <td>NaN</td>\n",
       "    </tr>\n",
       "    <tr>\n",
       "      <th>14</th>\n",
       "      <td>NaN</td>\n",
       "      <td>NaN</td>\n",
       "    </tr>\n",
       "    <tr>\n",
       "      <th>...</th>\n",
       "      <td>...</td>\n",
       "      <td>...</td>\n",
       "    </tr>\n",
       "    <tr>\n",
       "      <th>197</th>\n",
       "      <td>NaN</td>\n",
       "      <td>NaN</td>\n",
       "    </tr>\n",
       "    <tr>\n",
       "      <th>198</th>\n",
       "      <td>NaN</td>\n",
       "      <td>NaN</td>\n",
       "    </tr>\n",
       "    <tr>\n",
       "      <th>199</th>\n",
       "      <td>NaN</td>\n",
       "      <td>NaN</td>\n",
       "    </tr>\n",
       "    <tr>\n",
       "      <th>200</th>\n",
       "      <td>NaN</td>\n",
       "      <td>NaN</td>\n",
       "    </tr>\n",
       "    <tr>\n",
       "      <th>201</th>\n",
       "      <td>NaN</td>\n",
       "      <td>NaN</td>\n",
       "    </tr>\n",
       "    <tr>\n",
       "      <th>202</th>\n",
       "      <td>NaN</td>\n",
       "      <td>NaN</td>\n",
       "    </tr>\n",
       "    <tr>\n",
       "      <th>203</th>\n",
       "      <td>NaN</td>\n",
       "      <td>NaN</td>\n",
       "    </tr>\n",
       "    <tr>\n",
       "      <th>204</th>\n",
       "      <td>NaN</td>\n",
       "      <td>NaN</td>\n",
       "    </tr>\n",
       "    <tr>\n",
       "      <th>205</th>\n",
       "      <td>NaN</td>\n",
       "      <td>NaN</td>\n",
       "    </tr>\n",
       "    <tr>\n",
       "      <th>206</th>\n",
       "      <td>NaN</td>\n",
       "      <td>NaN</td>\n",
       "    </tr>\n",
       "    <tr>\n",
       "      <th>207</th>\n",
       "      <td>NaN</td>\n",
       "      <td>NaN</td>\n",
       "    </tr>\n",
       "    <tr>\n",
       "      <th>208</th>\n",
       "      <td>NaN</td>\n",
       "      <td>NaN</td>\n",
       "    </tr>\n",
       "    <tr>\n",
       "      <th>209</th>\n",
       "      <td>NaN</td>\n",
       "      <td>NaN</td>\n",
       "    </tr>\n",
       "    <tr>\n",
       "      <th>210</th>\n",
       "      <td>NaN</td>\n",
       "      <td>NaN</td>\n",
       "    </tr>\n",
       "    <tr>\n",
       "      <th>211</th>\n",
       "      <td>NaN</td>\n",
       "      <td>NaN</td>\n",
       "    </tr>\n",
       "  </tbody>\n",
       "</table>\n",
       "<p>212 rows × 2 columns</p>\n",
       "</div>"
      ],
      "text/plain": [
       "     povrsina  prebivalci\n",
       "0         NaN         NaN\n",
       "1         NaN         NaN\n",
       "2         NaN         NaN\n",
       "3         NaN         NaN\n",
       "4         NaN         NaN\n",
       "5         NaN         NaN\n",
       "6         NaN         NaN\n",
       "7         NaN         NaN\n",
       "8         NaN         NaN\n",
       "9         NaN         NaN\n",
       "10        NaN         NaN\n",
       "11        NaN         NaN\n",
       "12        NaN         NaN\n",
       "13        NaN         NaN\n",
       "14        NaN         NaN\n",
       "..        ...         ...\n",
       "197       NaN         NaN\n",
       "198       NaN         NaN\n",
       "199       NaN         NaN\n",
       "200       NaN         NaN\n",
       "201       NaN         NaN\n",
       "202       NaN         NaN\n",
       "203       NaN         NaN\n",
       "204       NaN         NaN\n",
       "205       NaN         NaN\n",
       "206       NaN         NaN\n",
       "207       NaN         NaN\n",
       "208       NaN         NaN\n",
       "209       NaN         NaN\n",
       "210       NaN         NaN\n",
       "211       NaN         NaN\n",
       "\n",
       "[212 rows x 2 columns]"
      ]
     },
     "execution_count": 55,
     "metadata": {},
     "output_type": "execute_result"
    }
   ],
   "source": [
    "gostota"
   ]
  },
  {
   "cell_type": "code",
   "execution_count": 44,
   "metadata": {
    "collapsed": true
   },
   "outputs": [],
   "source": [
    "naselja_2 = podatki_naselja[['regija', 'povrsina']].head(10)"
   ]
  },
  {
   "cell_type": "code",
   "execution_count": 48,
   "metadata": {
    "collapsed": false
   },
   "outputs": [
    {
     "data": {
      "text/html": [
       "<div>\n",
       "<table border=\"1\" class=\"dataframe\">\n",
       "  <thead>\n",
       "    <tr style=\"text-align: right;\">\n",
       "      <th></th>\n",
       "      <th>regija</th>\n",
       "      <th>povrsina</th>\n",
       "    </tr>\n",
       "  </thead>\n",
       "  <tbody>\n",
       "    <tr>\n",
       "      <th>8</th>\n",
       "      <td>GORENJSKA STATISTIČNA REGIJA</td>\n",
       "      <td>334</td>\n",
       "    </tr>\n",
       "    <tr>\n",
       "      <th>0</th>\n",
       "      <td>GORIŠKA STATISTIČNA REGIJA</td>\n",
       "      <td>245</td>\n",
       "    </tr>\n",
       "    <tr>\n",
       "      <th>7</th>\n",
       "      <td>NOTRANJSKO-KRAŠKA STATISTIČNA REGIJA</td>\n",
       "      <td>75</td>\n",
       "    </tr>\n",
       "    <tr>\n",
       "      <th>6</th>\n",
       "      <td>GORENJSKA STATISTIČNA REGIJA</td>\n",
       "      <td>72</td>\n",
       "    </tr>\n",
       "    <tr>\n",
       "      <th>3</th>\n",
       "      <td>POMURSKA STATISTIČNA REGIJA</td>\n",
       "      <td>62</td>\n",
       "    </tr>\n",
       "    <tr>\n",
       "      <th>2</th>\n",
       "      <td>POMURSKA STATISTIČNA REGIJA</td>\n",
       "      <td>54</td>\n",
       "    </tr>\n",
       "    <tr>\n",
       "      <th>9</th>\n",
       "      <td>OSREDNJESLOVENSKA STATISTIČNA REGIJA</td>\n",
       "      <td>42</td>\n",
       "    </tr>\n",
       "    <tr>\n",
       "      <th>5</th>\n",
       "      <td>SAVINJSKA STATISTIČNA REGIJA</td>\n",
       "      <td>31</td>\n",
       "    </tr>\n",
       "    <tr>\n",
       "      <th>4</th>\n",
       "      <td>PODRAVSKA STATISTIČNA REGIJA</td>\n",
       "      <td>24</td>\n",
       "    </tr>\n",
       "    <tr>\n",
       "      <th>1</th>\n",
       "      <td>OBALNO-KRAŠKA STATISTIČNA REGIJA</td>\n",
       "      <td>8</td>\n",
       "    </tr>\n",
       "  </tbody>\n",
       "</table>\n",
       "</div>"
      ],
      "text/plain": [
       "                                 regija  povrsina\n",
       "8          GORENJSKA STATISTIČNA REGIJA       334\n",
       "0            GORIŠKA STATISTIČNA REGIJA       245\n",
       "7  NOTRANJSKO-KRAŠKA STATISTIČNA REGIJA        75\n",
       "6          GORENJSKA STATISTIČNA REGIJA        72\n",
       "3           POMURSKA STATISTIČNA REGIJA        62\n",
       "2           POMURSKA STATISTIČNA REGIJA        54\n",
       "9  OSREDNJESLOVENSKA STATISTIČNA REGIJA        42\n",
       "5          SAVINJSKA STATISTIČNA REGIJA        31\n",
       "4          PODRAVSKA STATISTIČNA REGIJA        24\n",
       "1      OBALNO-KRAŠKA STATISTIČNA REGIJA         8"
      ]
     },
     "execution_count": 48,
     "metadata": {},
     "output_type": "execute_result"
    }
   ],
   "source": [
    "naselja_2.sort_values('povrsina', ascending=[False])"
   ]
  },
  {
   "cell_type": "raw",
   "metadata": {},
   "source": []
  },
  {
   "cell_type": "code",
   "execution_count": null,
   "metadata": {
    "collapsed": true
   },
   "outputs": [],
   "source": []
  }
 ],
 "metadata": {
  "kernelspec": {
   "display_name": "Python 3",
   "language": "python",
   "name": "python3"
  },
  "language_info": {
   "codemirror_mode": {
    "name": "ipython",
    "version": 3
   },
   "file_extension": ".py",
   "mimetype": "text/x-python",
   "name": "python",
   "nbconvert_exporter": "python",
   "pygments_lexer": "ipython3",
   "version": "3.5.1"
  }
 },
 "nbformat": 4,
 "nbformat_minor": 0
}
