{
 "cells": [
  {
   "cell_type": "markdown",
   "metadata": {},
   "source": [
    "# Občine\n",
    "\n",
    "\n",
    "V danem projektu Občine, sem analiziral nekaj statističnih podatkov, ki se nanašajo na slovenske občine.\n",
    "Z nekaj spletnih strani sem pridobil podatke o županih, površini, naseljih in prebivalcih v posamezni občini.\n",
    "Zanimalo me je, kako se je spreminjalo število županov z dvema zaporednima mandatoma v letih od 1994-2014, kjer en mandat traja 4 leta. Pregledal sem, koliko občin ima vsaka pokrajina, pri čemer sem vzel eno izmed delitev na pokrajine, ki se meni zdi najbolj smiselna. Na koncu sem izračunal še gostoto prebivalstva v posamezni občini\n",
    "\n",
    "## Župani\n"
   ]
  },
  {
   "cell_type": "code",
   "execution_count": 84,
   "metadata": {},
   "outputs": [
    {
     "ename": "SyntaxError",
     "evalue": "invalid syntax (<ipython-input-84-5193a8f16365>, line 3)",
     "output_type": "error",
     "traceback": [
      "\u001b[1;36m  File \u001b[1;32m\"<ipython-input-84-5193a8f16365>\"\u001b[1;36m, line \u001b[1;32m3\u001b[0m\n\u001b[1;33m    import matplotlib.pyplot.as plt\u001b[0m\n\u001b[1;37m                              ^\u001b[0m\n\u001b[1;31mSyntaxError\u001b[0m\u001b[1;31m:\u001b[0m invalid syntax\n"
     ]
    }
   ],
   "source": [
    "%matplotlib inline\n",
    "import pandas as pd\n",
    "import matplotlib.pyplot.as plt\n",
    "pd.set_option('display.mpl_style', 'default')\n",
    "pd.set_option('display.width', 5000) \n",
    "pd.set_option('display.max_columns', 60)\n",
    "plt.rcParams['figure.figsize'] = (15, 5)\n",
    "\n",
    "seznam_obcin = pd.read_csv('csv-datoteke/index.csv')\n",
    "podatki_2014 = pd.read_csv('csv-datoteke/2010-2014.csv')\n",
    "podatki_brez_2010 = pd.read_csv('csv-datoteke/2006-2010.csv')\n",
    "podatki_2006 = pd.read_csv('csv-datoteke/2002-2006.csv')\n",
    "podatki_2002 = pd.read_csv('csv-datoteke/1998-2002.csv')\n",
    "podatki_1998 = pd.read_csv('csv-datoteke/1994-1998.csv')\n",
    "podatki_naselja = pd.read_csv('csv-datoteke/naselja.csv')\n",
    "pd.options.display.max_rows = 30"
   ]
  },
  {
   "cell_type": "markdown",
   "metadata": {},
   "source": [
    "**Tabela županov, ki so dobili dva zaporedna mandata za obdobje 2006-2010 in 2010-2014.**"
   ]
  },
  {
   "cell_type": "code",
   "execution_count": null,
   "metadata": {
    "collapsed": true
   },
   "outputs": [],
   "source": [
    "mandat_2 = pd.merge(podatki_2014[['obcina', 'zupan']], podatki_brez_2010, on='zupan', suffixes=('_2014', '_2010'))"
   ]
  },
  {
   "cell_type": "code",
   "execution_count": null,
   "metadata": {},
   "outputs": [],
   "source": [
    "mandat_2.head(10)"
   ]
  },
  {
   "cell_type": "code",
   "execution_count": null,
   "metadata": {},
   "outputs": [],
   "source": [
    "mandat_2[['zupan']].count()"
   ]
  },
  {
   "cell_type": "code",
   "execution_count": null,
   "metadata": {},
   "outputs": [],
   "source": [
    "podatki_2014[['zupan']].count()"
   ]
  },
  {
   "cell_type": "code",
   "execution_count": null,
   "metadata": {},
   "outputs": [],
   "source": [
    "podatki_brez_2010[['zupan']].count()"
   ]
  },
  {
   "cell_type": "code",
   "execution_count": null,
   "metadata": {
    "collapsed": true
   },
   "outputs": [],
   "source": [
    "odstotek_zupanov = mandat_2[['zupan']].count() / podatki_2014[['zupan']].count()"
   ]
  },
  {
   "cell_type": "code",
   "execution_count": null,
   "metadata": {},
   "outputs": [],
   "source": [
    "odstotek_zupanov"
   ]
  },
  {
   "cell_type": "markdown",
   "metadata": {},
   "source": [
    "Združil sem tabeli podatki_2014 in podatki_brez_2010 po stolpcu zupan in tako dobil tabelo vseh županov, ki so bili dva mandata na oblasti. Nato sem delil število županov z dvema mandatoma s številom vseh županov in dobil delež teh županov."
   ]
  },
  {
   "cell_type": "markdown",
   "metadata": {},
   "source": [
    "**Tabela županov, ki so dobili dva zaporedna mandata za obdobje 2002-2006 in 2006-2010.**"
   ]
  },
  {
   "cell_type": "code",
   "execution_count": null,
   "metadata": {
    "collapsed": true
   },
   "outputs": [],
   "source": [
    "mandat_3 = pd.merge(podatki_brez_2010, podatki_2006[['obcina', 'zupan']], on='zupan', suffixes=('_2010', '_2006'))"
   ]
  },
  {
   "cell_type": "code",
   "execution_count": null,
   "metadata": {},
   "outputs": [],
   "source": [
    "mandat_3.head(10)"
   ]
  },
  {
   "cell_type": "code",
   "execution_count": null,
   "metadata": {},
   "outputs": [],
   "source": [
    "mandat_3[['zupan']].count()"
   ]
  },
  {
   "cell_type": "code",
   "execution_count": null,
   "metadata": {},
   "outputs": [],
   "source": [
    "podatki_brez_2010[['zupan']].count()"
   ]
  },
  {
   "cell_type": "code",
   "execution_count": null,
   "metadata": {},
   "outputs": [],
   "source": [
    "podatki_2006[['zupan']].count()"
   ]
  },
  {
   "cell_type": "code",
   "execution_count": null,
   "metadata": {
    "collapsed": true
   },
   "outputs": [],
   "source": [
    "odstotek_zupanov_2 = mandat_3[['zupan']].count() / podatki_2006[['zupan']].count()"
   ]
  },
  {
   "cell_type": "code",
   "execution_count": null,
   "metadata": {},
   "outputs": [],
   "source": [
    "odstotek_zupanov_2"
   ]
  },
  {
   "cell_type": "markdown",
   "metadata": {},
   "source": [
    "**Tabela županov, ki so dobili dva zaporedna mandata za obdobje 1998-2002 in 2002-2006.**"
   ]
  },
  {
   "cell_type": "code",
   "execution_count": null,
   "metadata": {
    "collapsed": true
   },
   "outputs": [],
   "source": [
    "mandat_4 = pd.merge(podatki_2006[['obcina', 'zupan']], podatki_2002[['obcina', 'zupan']], on='zupan', suffixes=('_2006', '_2002'))"
   ]
  },
  {
   "cell_type": "code",
   "execution_count": null,
   "metadata": {},
   "outputs": [],
   "source": [
    "mandat_4.head(10)"
   ]
  },
  {
   "cell_type": "code",
   "execution_count": null,
   "metadata": {},
   "outputs": [],
   "source": [
    "mandat_4[['zupan']].count()"
   ]
  },
  {
   "cell_type": "code",
   "execution_count": null,
   "metadata": {},
   "outputs": [],
   "source": [
    "podatki_2006[['zupan']].count()"
   ]
  },
  {
   "cell_type": "code",
   "execution_count": null,
   "metadata": {},
   "outputs": [],
   "source": [
    "podatki_2002[['zupan']].count()"
   ]
  },
  {
   "cell_type": "code",
   "execution_count": null,
   "metadata": {
    "collapsed": true
   },
   "outputs": [],
   "source": [
    "odstotek_zupanov_3 = mandat_4[['zupan']].count() / podatki_2002[['zupan']].count()"
   ]
  },
  {
   "cell_type": "code",
   "execution_count": null,
   "metadata": {},
   "outputs": [],
   "source": [
    "odstotek_zupanov_3"
   ]
  },
  {
   "cell_type": "markdown",
   "metadata": {},
   "source": [
    "Iz izračunov vidimo, da se procent županov z dvema zaporednima mandatoma ni veliko spreminjal med leti. Ta odstotek varira nekje med 60 % in 70 %. Torej volilci zaupajo približno dva mandata zapored 2 / 3 županov.S primerjavo tabel lahko opazimo, da so med njimi tudi župani, ki so vsaj 3 ali več zaporednih mandatov na oblasti."
   ]
  },
  {
   "cell_type": "markdown",
   "metadata": {},
   "source": [
    "#### Tabela županov, ki so dobili dva zaporedna mandata za obdobje 1994-1998 in 1998-2002."
   ]
  },
  {
   "cell_type": "code",
   "execution_count": null,
   "metadata": {
    "collapsed": true
   },
   "outputs": [],
   "source": [
    "mandat_5=pd.merge(podatki_2002[['obcina', 'zupan']], podatki_1998[['obcina', 'zupan']], on='zupan', suffixes=('_2002', '_1998'))"
   ]
  },
  {
   "cell_type": "code",
   "execution_count": null,
   "metadata": {},
   "outputs": [],
   "source": [
    "mandat_5.head(10)"
   ]
  },
  {
   "cell_type": "code",
   "execution_count": null,
   "metadata": {},
   "outputs": [],
   "source": [
    "mandat_5[['zupan']].count()"
   ]
  },
  {
   "cell_type": "code",
   "execution_count": null,
   "metadata": {},
   "outputs": [],
   "source": [
    "podatki_2002[['zupan']].count()"
   ]
  },
  {
   "cell_type": "code",
   "execution_count": null,
   "metadata": {},
   "outputs": [],
   "source": [
    "podatki_1998[['zupan']].count()"
   ]
  },
  {
   "cell_type": "code",
   "execution_count": null,
   "metadata": {
    "collapsed": true
   },
   "outputs": [],
   "source": [
    "odstotek_zupanov_4 = mandat_5[['zupan']].count() / podatki_1998[['zupan']].count()"
   ]
  },
  {
   "cell_type": "code",
   "execution_count": null,
   "metadata": {},
   "outputs": [],
   "source": [
    "odstotek_zupanov_4"
   ]
  },
  {
   "cell_type": "markdown",
   "metadata": {
    "collapsed": true
   },
   "source": [
    "Iz izračunov vidimo, da se procent županov z dvema zaporednima mandatoma ni veliko spreminjal med leti. Ta odstotek varira nekje med 60 % in 70 %. Torej volilci zaupajo približno dva mandata zapored 2 / 3 županov.S primerjavo tabel lahko opazimo, da so med njimi tudi župani, ki so vsaj 3 ali več zaporednih mandatov na oblasti. Za obdobje med 1994-1998 manjkajo podatki za kar veliko občin, zato teh podatkov nisem primerjal s tistimi za obdobje 1998-2002."
   ]
  },
  {
   "cell_type": "code",
   "execution_count": null,
   "metadata": {
    "collapsed": true
   },
   "outputs": [],
   "source": [
    "mandati = [{'mandat' : '2006-2010 in 2010-2014', 'odstotek županov' :  0.677885 },\n",
    "           {'mandat' : '2002-2006 in 2006-2010', 'odstotek županov' : 0.625},\n",
    "           {'mandat' : '1998-2002 in 2002-2006', 'odstotek županov' : 0.697917}]\n",
    "\n",
    "tf = pd.DataFrame(mandati)"
   ]
  },
  {
   "cell_type": "code",
   "execution_count": null,
   "metadata": {},
   "outputs": [],
   "source": [
    "tf"
   ]
  },
  {
   "cell_type": "code",
   "execution_count": null,
   "metadata": {},
   "outputs": [],
   "source": [
    "podatki_naselja.head(10)"
   ]
  },
  {
   "cell_type": "markdown",
   "metadata": {},
   "source": [
    "**Spodaj je prikazano število občin v posamezni regiji.**\n",
    "V Sloveniji imamo 212 občin, kar je zelo veliko glede na velikost države.Iz tabele je razvidno, da je največ občin v Podravski regiji, najmanj pa v Zasavski regiji.\n",
    "Zanima me tudi, katera pokrajina ima največ občin(Primorska, Gorenjska, Dolenjska, Štajerska, Notranjska, Koroška, Prekmurje, Osrednjeslovenska). To je moja delitev na pokrajine, mednje sem dodal tudi Osrednjeslovensko pokrajino. Na nekaterih virih je samostojna pokrajina, na drugih pa je razdeljena med druge pokrajine. Zaradi lažjega dela, sem vzel tako delitev.\n",
    "* Koroška ima 12 občin\n",
    "* Dolenjska ima 25 občin\n",
    "* Gorenjska ima 18 občin\n",
    "* Prekmurje ima 27 občin\n",
    "* Osrednjeslovenska ima 26 občin\n",
    "* Primorska ima 21 občin\n",
    "* Notranjska ima 6 občin\n",
    "* Štajerska ima 77 občin\n",
    "\n",
    "Vidimo, da ima Štajerska daleč največ občin, kar je tudi pričakovano, saj je največja po površini."
   ]
  },
  {
   "cell_type": "code",
   "execution_count": null,
   "metadata": {},
   "outputs": [],
   "source": [
    "tabela  = {'pokrajina' : ['Koroška', 'Dolenjska', 'Gorenjska', 'Prekmurje', 'Osrednjeslovenska', 'Primorska', 'Notranjska', 'Štajerska'],\n",
    "           'število občin' : [12, 25, 18, 27, 26, 21, 6, 77]}\n",
    "         \n",
    "\n",
    "df = pd.DataFrame(tabela).sort_values('število občin', ascending=False)"
   ]
  },
  {
   "cell_type": "code",
   "execution_count": 86,
   "metadata": {},
   "outputs": [
    {
     "data": {
      "text/html": [
       "<div>\n",
       "<style>\n",
       "    .dataframe thead tr:only-child th {\n",
       "        text-align: right;\n",
       "    }\n",
       "\n",
       "    .dataframe thead th {\n",
       "        text-align: left;\n",
       "    }\n",
       "\n",
       "    .dataframe tbody tr th {\n",
       "        vertical-align: top;\n",
       "    }\n",
       "</style>\n",
       "<table border=\"1\" class=\"dataframe\">\n",
       "  <thead>\n",
       "    <tr style=\"text-align: right;\">\n",
       "      <th></th>\n",
       "      <th>pokrajina</th>\n",
       "      <th>število občin</th>\n",
       "    </tr>\n",
       "  </thead>\n",
       "  <tbody>\n",
       "    <tr>\n",
       "      <th>7</th>\n",
       "      <td>Štajerska</td>\n",
       "      <td>77</td>\n",
       "    </tr>\n",
       "    <tr>\n",
       "      <th>3</th>\n",
       "      <td>Prekmurje</td>\n",
       "      <td>27</td>\n",
       "    </tr>\n",
       "    <tr>\n",
       "      <th>4</th>\n",
       "      <td>Osrednjeslovenska</td>\n",
       "      <td>26</td>\n",
       "    </tr>\n",
       "    <tr>\n",
       "      <th>1</th>\n",
       "      <td>Dolenjska</td>\n",
       "      <td>25</td>\n",
       "    </tr>\n",
       "    <tr>\n",
       "      <th>5</th>\n",
       "      <td>Primorska</td>\n",
       "      <td>21</td>\n",
       "    </tr>\n",
       "    <tr>\n",
       "      <th>2</th>\n",
       "      <td>Gorenjska</td>\n",
       "      <td>18</td>\n",
       "    </tr>\n",
       "    <tr>\n",
       "      <th>0</th>\n",
       "      <td>Koroška</td>\n",
       "      <td>12</td>\n",
       "    </tr>\n",
       "    <tr>\n",
       "      <th>6</th>\n",
       "      <td>Notranjska</td>\n",
       "      <td>6</td>\n",
       "    </tr>\n",
       "  </tbody>\n",
       "</table>\n",
       "</div>"
      ],
      "text/plain": [
       "           pokrajina  število občin\n",
       "7          Štajerska             77\n",
       "3          Prekmurje             27\n",
       "4  Osrednjeslovenska             26\n",
       "1          Dolenjska             25\n",
       "5          Primorska             21\n",
       "2          Gorenjska             18\n",
       "0            Koroška             12\n",
       "6         Notranjska              6"
      ]
     },
     "execution_count": 86,
     "metadata": {},
     "output_type": "execute_result"
    }
   ],
   "source": [
    "df"
   ]
  },
  {
   "cell_type": "code",
   "execution_count": 87,
   "metadata": {},
   "outputs": [
    {
     "data": {
      "text/plain": [
       "<matplotlib.axes._subplots.AxesSubplot at 0x2832e10>"
      ]
     },
     "execution_count": 87,
     "metadata": {},
     "output_type": "execute_result"
    },
    {
     "data": {
      "image/png": "[encoded data removed]",
      "text/plain": [
       "<matplotlib.figure.Figure at 0x28793f0>"
      ]
     },
     "metadata": {},
     "output_type": "display_data"
    }
   ],
   "source": [
    "df.plot(x='pokrajina', kind='bar', fontsize=20, title='ŠTEVILO OBČIN')"
   ]
  },
  {
   "cell_type": "code",
   "execution_count": 88,
   "metadata": {
    "collapsed": true
   },
   "outputs": [],
   "source": [
    "regije = podatki_naselja.groupby('regija')[['obcina']].count()"
   ]
  },
  {
   "cell_type": "code",
   "execution_count": 89,
   "metadata": {},
   "outputs": [
    {
     "data": {
      "text/html": [
       "<div>\n",
       "<style>\n",
       "    .dataframe thead tr:only-child th {\n",
       "        text-align: right;\n",
       "    }\n",
       "\n",
       "    .dataframe thead th {\n",
       "        text-align: left;\n",
       "    }\n",
       "\n",
       "    .dataframe tbody tr th {\n",
       "        vertical-align: top;\n",
       "    }\n",
       "</style>\n",
       "<table border=\"1\" class=\"dataframe\">\n",
       "  <thead>\n",
       "    <tr style=\"text-align: right;\">\n",
       "      <th></th>\n",
       "      <th>obcina</th>\n",
       "    </tr>\n",
       "    <tr>\n",
       "      <th>regija</th>\n",
       "      <th></th>\n",
       "    </tr>\n",
       "  </thead>\n",
       "  <tbody>\n",
       "    <tr>\n",
       "      <th>PODRAVSKA STATISTIČNA REGIJA</th>\n",
       "      <td>41</td>\n",
       "    </tr>\n",
       "    <tr>\n",
       "      <th>SAVINJSKA STATISTIČNA REGIJA</th>\n",
       "      <td>33</td>\n",
       "    </tr>\n",
       "    <tr>\n",
       "      <th>POMURSKA STATISTIČNA REGIJA</th>\n",
       "      <td>27</td>\n",
       "    </tr>\n",
       "    <tr>\n",
       "      <th>OSREDNJESLOVENSKA STATISTIČNA REGIJA</th>\n",
       "      <td>26</td>\n",
       "    </tr>\n",
       "    <tr>\n",
       "      <th>JUGOVZHODNA SLOVENIJA</th>\n",
       "      <td>20</td>\n",
       "    </tr>\n",
       "    <tr>\n",
       "      <th>GORENJSKA STATISTIČNA REGIJA</th>\n",
       "      <td>18</td>\n",
       "    </tr>\n",
       "    <tr>\n",
       "      <th>GORIŠKA STATISTIČNA REGIJA</th>\n",
       "      <td>13</td>\n",
       "    </tr>\n",
       "    <tr>\n",
       "      <th>KOROŠKA STATISTIČNA REGIJA</th>\n",
       "      <td>12</td>\n",
       "    </tr>\n",
       "    <tr>\n",
       "      <th>OBALNO-KRAŠKA STATISTIČNA REGIJA</th>\n",
       "      <td>8</td>\n",
       "    </tr>\n",
       "    <tr>\n",
       "      <th>NOTRANJSKO-KRAŠKA STATISTIČNA REGIJA</th>\n",
       "      <td>6</td>\n",
       "    </tr>\n",
       "    <tr>\n",
       "      <th>SPODNJEPOSAVSKA STATISTIČNA REGIJA</th>\n",
       "      <td>4</td>\n",
       "    </tr>\n",
       "    <tr>\n",
       "      <th>ZASAVSKA STATISTIČNA REGIJA</th>\n",
       "      <td>3</td>\n",
       "    </tr>\n",
       "    <tr>\n",
       "      <th>Jugovzhodna Slovenija</th>\n",
       "      <td>1</td>\n",
       "    </tr>\n",
       "  </tbody>\n",
       "</table>\n",
       "</div>"
      ],
      "text/plain": [
       "                                      obcina\n",
       "regija                                      \n",
       "PODRAVSKA STATISTIČNA REGIJA              41\n",
       "SAVINJSKA STATISTIČNA REGIJA              33\n",
       "POMURSKA STATISTIČNA REGIJA               27\n",
       "OSREDNJESLOVENSKA STATISTIČNA REGIJA      26\n",
       "JUGOVZHODNA SLOVENIJA                     20\n",
       "GORENJSKA STATISTIČNA REGIJA              18\n",
       "GORIŠKA STATISTIČNA REGIJA                13\n",
       "KOROŠKA STATISTIČNA REGIJA                12\n",
       "OBALNO-KRAŠKA STATISTIČNA REGIJA           8\n",
       "NOTRANJSKO-KRAŠKA STATISTIČNA REGIJA       6\n",
       "SPODNJEPOSAVSKA STATISTIČNA REGIJA         4\n",
       "ZASAVSKA STATISTIČNA REGIJA                3\n",
       "Jugovzhodna Slovenija                      1"
      ]
     },
     "execution_count": 89,
     "metadata": {},
     "output_type": "execute_result"
    }
   ],
   "source": [
    "regije.sort_values('obcina', ascending=[False])"
   ]
  },
  {
   "cell_type": "code",
   "execution_count": 90,
   "metadata": {
    "scrolled": true
   },
   "outputs": [
    {
     "data": {
      "text/plain": [
       "<matplotlib.axes._subplots.AxesSubplot at 0x5c69110>"
      ]
     },
     "execution_count": 90,
     "metadata": {},
     "output_type": "execute_result"
    },
    {
     "data": {
      "image/png": "[encoded data removed]",
      "text/plain": [
       "<matplotlib.figure.Figure at 0x5c49310>"
      ]
     },
     "metadata": {},
     "output_type": "display_data"
    }
   ],
   "source": [
    "regije.plot(kind='bar')"
   ]
  },
  {
   "cell_type": "markdown",
   "metadata": {},
   "source": [
    "Zanima me gostota naseljenosti prebivalstva znotraj posamezne občine in povprečna gostota naselja v občini."
   ]
  },
  {
   "cell_type": "code",
   "execution_count": 91,
   "metadata": {
    "collapsed": true
   },
   "outputs": [],
   "source": [
    "naselja_1 = podatki_naselja[['obcina', 'prebivalci', 'povrsina']]"
   ]
  },
  {
   "cell_type": "code",
   "execution_count": 94,
   "metadata": {},
   "outputs": [
    {
     "data": {
      "text/html": [
       "<div>\n",
       "<style>\n",
       "    .dataframe thead tr:only-child th {\n",
       "        text-align: right;\n",
       "    }\n",
       "\n",
       "    .dataframe thead th {\n",
       "        text-align: left;\n",
       "    }\n",
       "\n",
       "    .dataframe tbody tr th {\n",
       "        vertical-align: top;\n",
       "    }\n",
       "</style>\n",
       "<table border=\"1\" class=\"dataframe\">\n",
       "  <thead>\n",
       "    <tr style=\"text-align: right;\">\n",
       "      <th></th>\n",
       "      <th>obcina</th>\n",
       "      <th>prebivalci</th>\n",
       "      <th>povrsina</th>\n",
       "      <th>gostota</th>\n",
       "    </tr>\n",
       "  </thead>\n",
       "  <tbody>\n",
       "    <tr>\n",
       "      <th>82</th>\n",
       "      <td>Ljubljana</td>\n",
       "      <td>287218</td>\n",
       "      <td>275</td>\n",
       "      <td>1044.429091</td>\n",
       "    </tr>\n",
       "    <tr>\n",
       "      <th>94</th>\n",
       "      <td>Maribor</td>\n",
       "      <td>112325</td>\n",
       "      <td>148</td>\n",
       "      <td>758.952703</td>\n",
       "    </tr>\n",
       "    <tr>\n",
       "      <th>56</th>\n",
       "      <td>Izola</td>\n",
       "      <td>15867</td>\n",
       "      <td>29</td>\n",
       "      <td>547.137931</td>\n",
       "    </tr>\n",
       "    <tr>\n",
       "      <th>16</th>\n",
       "      <td>Celje</td>\n",
       "      <td>48773</td>\n",
       "      <td>95</td>\n",
       "      <td>513.400000</td>\n",
       "    </tr>\n",
       "    <tr>\n",
       "      <th>100</th>\n",
       "      <td>Miklavž na Dravskem polju</td>\n",
       "      <td>6460</td>\n",
       "      <td>13</td>\n",
       "      <td>496.923077</td>\n",
       "    </tr>\n",
       "    <tr>\n",
       "      <th>34</th>\n",
       "      <td>Domžale</td>\n",
       "      <td>35039</td>\n",
       "      <td>72</td>\n",
       "      <td>486.652778</td>\n",
       "    </tr>\n",
       "    <tr>\n",
       "      <th>188</th>\n",
       "      <td>Trzin</td>\n",
       "      <td>3858</td>\n",
       "      <td>9</td>\n",
       "      <td>428.666667</td>\n",
       "    </tr>\n",
       "    <tr>\n",
       "      <th>167</th>\n",
       "      <td>Šempeter-Vrtojba</td>\n",
       "      <td>6280</td>\n",
       "      <td>15</td>\n",
       "      <td>418.666667</td>\n",
       "    </tr>\n",
       "    <tr>\n",
       "      <th>1</th>\n",
       "      <td>Ankaran</td>\n",
       "      <td>3219</td>\n",
       "      <td>8</td>\n",
       "      <td>402.375000</td>\n",
       "    </tr>\n",
       "    <tr>\n",
       "      <th>120</th>\n",
       "      <td>Piran</td>\n",
       "      <td>17857</td>\n",
       "      <td>45</td>\n",
       "      <td>396.822222</td>\n",
       "    </tr>\n",
       "    <tr>\n",
       "      <th>191</th>\n",
       "      <td>Velenje</td>\n",
       "      <td>32751</td>\n",
       "      <td>84</td>\n",
       "      <td>389.892857</td>\n",
       "    </tr>\n",
       "    <tr>\n",
       "      <th>72</th>\n",
       "      <td>Kranj</td>\n",
       "      <td>55857</td>\n",
       "      <td>151</td>\n",
       "      <td>369.913907</td>\n",
       "    </tr>\n",
       "    <tr>\n",
       "      <th>131</th>\n",
       "      <td>Ptuj</td>\n",
       "      <td>23153</td>\n",
       "      <td>67</td>\n",
       "      <td>345.567164</td>\n",
       "    </tr>\n",
       "    <tr>\n",
       "      <th>97</th>\n",
       "      <td>Mengeš</td>\n",
       "      <td>7630</td>\n",
       "      <td>23</td>\n",
       "      <td>331.739130</td>\n",
       "    </tr>\n",
       "    <tr>\n",
       "      <th>85</th>\n",
       "      <td>Log - Dragomer</td>\n",
       "      <td>3636</td>\n",
       "      <td>11</td>\n",
       "      <td>330.545455</td>\n",
       "    </tr>\n",
       "    <tr>\n",
       "      <th>109</th>\n",
       "      <td>Murska Sobota</td>\n",
       "      <td>18973</td>\n",
       "      <td>64</td>\n",
       "      <td>296.453125</td>\n",
       "    </tr>\n",
       "    <tr>\n",
       "      <th>185</th>\n",
       "      <td>Trbovlje</td>\n",
       "      <td>16490</td>\n",
       "      <td>58</td>\n",
       "      <td>284.310345</td>\n",
       "    </tr>\n",
       "    <tr>\n",
       "      <th>57</th>\n",
       "      <td>Jesenice</td>\n",
       "      <td>21042</td>\n",
       "      <td>76</td>\n",
       "      <td>276.868421</td>\n",
       "    </tr>\n",
       "    <tr>\n",
       "      <th>67</th>\n",
       "      <td>Komenda</td>\n",
       "      <td>5932</td>\n",
       "      <td>24</td>\n",
       "      <td>247.166667</td>\n",
       "    </tr>\n",
       "    <tr>\n",
       "      <th>175</th>\n",
       "      <td>Škofljica</td>\n",
       "      <td>10278</td>\n",
       "      <td>43</td>\n",
       "      <td>239.023256</td>\n",
       "    </tr>\n",
       "  </tbody>\n",
       "</table>\n",
       "</div>"
      ],
      "text/plain": [
       "                        obcina  prebivalci  povrsina      gostota\n",
       "82                   Ljubljana      287218       275  1044.429091\n",
       "94                     Maribor      112325       148   758.952703\n",
       "56                       Izola       15867        29   547.137931\n",
       "16                       Celje       48773        95   513.400000\n",
       "100  Miklavž na Dravskem polju        6460        13   496.923077\n",
       "34                     Domžale       35039        72   486.652778\n",
       "188                      Trzin        3858         9   428.666667\n",
       "167           Šempeter-Vrtojba        6280        15   418.666667\n",
       "1                      Ankaran        3219         8   402.375000\n",
       "120                      Piran       17857        45   396.822222\n",
       "191                    Velenje       32751        84   389.892857\n",
       "72                       Kranj       55857       151   369.913907\n",
       "131                       Ptuj       23153        67   345.567164\n",
       "97                      Mengeš        7630        23   331.739130\n",
       "85              Log - Dragomer        3636        11   330.545455\n",
       "109              Murska Sobota       18973        64   296.453125\n",
       "185                   Trbovlje       16490        58   284.310345\n",
       "57                    Jesenice       21042        76   276.868421\n",
       "67                     Komenda        5932        24   247.166667\n",
       "175                  Škofljica       10278        43   239.023256"
      ]
     },
     "execution_count": 94,
     "metadata": {},
     "output_type": "execute_result"
    }
   ],
   "source": [
    "naselja_1.sort_values('gostota', ascending=False).head(20)"
   ]
  },
  {
   "cell_type": "markdown",
   "metadata": {},
   "source": [
    "Pričakovano je gostota prebivalstva največja v naših dveh najbolj znanih občinah: v Ljubljani in Mariboru."
   ]
  },
  {
   "cell_type": "code",
   "execution_count": 93,
   "metadata": {},
   "outputs": [
    {
     "name": "stderr",
     "output_type": "stream",
     "text": [
      "c:\\program files (x86)\\python36-32\\lib\\site-packages\\ipykernel_launcher.py:1: SettingWithCopyWarning: \n",
      "A value is trying to be set on a copy of a slice from a DataFrame.\n",
      "Try using .loc[row_indexer,col_indexer] = value instead\n",
      "\n",
      "See the caveats in the documentation: http://pandas.pydata.org/pandas-docs/stable/indexing.html#indexing-view-versus-copy\n",
      "  \"\"\"Entry point for launching an IPython kernel.\n"
     ]
    }
   ],
   "source": [
    "naselja_1['gostota'] = naselja_1.apply(lambda row: row['prebivalci'] / row['povrsina'], axis=1)"
   ]
  },
  {
   "cell_type": "code",
   "execution_count": 95,
   "metadata": {},
   "outputs": [],
   "source": [
    "naselja_2 = podatki_naselja[['obcina', 'naselje']]"
   ]
  },
  {
   "cell_type": "code",
   "execution_count": 96,
   "metadata": {},
   "outputs": [
    {
     "name": "stderr",
     "output_type": "stream",
     "text": [
      "c:\\program files (x86)\\python36-32\\lib\\site-packages\\ipykernel_launcher.py:1: SettingWithCopyWarning: \n",
      "A value is trying to be set on a copy of a slice from a DataFrame.\n",
      "Try using .loc[row_indexer,col_indexer] = value instead\n",
      "\n",
      "See the caveats in the documentation: http://pandas.pydata.org/pandas-docs/stable/indexing.html#indexing-view-versus-copy\n",
      "  \"\"\"Entry point for launching an IPython kernel.\n"
     ]
    }
   ],
   "source": [
    "naselja_2['gostota'] = naselja_1.apply(lambda row: row['prebivalci'] / row['povrsina'], axis=1)"
   ]
  },
  {
   "cell_type": "code",
   "execution_count": 97,
   "metadata": {},
   "outputs": [
    {
     "name": "stderr",
     "output_type": "stream",
     "text": [
      "c:\\program files (x86)\\python36-32\\lib\\site-packages\\ipykernel_launcher.py:1: SettingWithCopyWarning: \n",
      "A value is trying to be set on a copy of a slice from a DataFrame.\n",
      "Try using .loc[row_indexer,col_indexer] = value instead\n",
      "\n",
      "See the caveats in the documentation: http://pandas.pydata.org/pandas-docs/stable/indexing.html#indexing-view-versus-copy\n",
      "  \"\"\"Entry point for launching an IPython kernel.\n"
     ]
    }
   ],
   "source": [
    "naselja_2['gostota/naselje'] = naselja_2.apply(lambda row: row['gostota'] / row['naselje'], axis=1)"
   ]
  },
  {
   "cell_type": "code",
   "execution_count": 100,
   "metadata": {},
   "outputs": [],
   "source": [
    "gostota = naselja_2.sort_values('gostota/naselje', ascending=False).head(10)"
   ]
  },
  {
   "cell_type": "code",
   "execution_count": 101,
   "metadata": {},
   "outputs": [
    {
     "data": {
      "text/html": [
       "<div>\n",
       "<style>\n",
       "    .dataframe thead tr:only-child th {\n",
       "        text-align: right;\n",
       "    }\n",
       "\n",
       "    .dataframe thead th {\n",
       "        text-align: left;\n",
       "    }\n",
       "\n",
       "    .dataframe tbody tr th {\n",
       "        vertical-align: top;\n",
       "    }\n",
       "</style>\n",
       "<table border=\"1\" class=\"dataframe\">\n",
       "  <thead>\n",
       "    <tr style=\"text-align: right;\">\n",
       "      <th></th>\n",
       "      <th>obcina</th>\n",
       "      <th>naselje</th>\n",
       "      <th>gostota</th>\n",
       "      <th>gostota/naselje</th>\n",
       "    </tr>\n",
       "  </thead>\n",
       "  <tbody>\n",
       "    <tr>\n",
       "      <th>188</th>\n",
       "      <td>Trzin</td>\n",
       "      <td>1</td>\n",
       "      <td>428.666667</td>\n",
       "      <td>428.666667</td>\n",
       "    </tr>\n",
       "    <tr>\n",
       "      <th>1</th>\n",
       "      <td>Ankaran</td>\n",
       "      <td>1</td>\n",
       "      <td>402.375000</td>\n",
       "      <td>402.375000</td>\n",
       "    </tr>\n",
       "    <tr>\n",
       "      <th>115</th>\n",
       "      <td>Odranci</td>\n",
       "      <td>1</td>\n",
       "      <td>235.857143</td>\n",
       "      <td>235.857143</td>\n",
       "    </tr>\n",
       "    <tr>\n",
       "      <th>167</th>\n",
       "      <td>Šempeter-Vrtojba</td>\n",
       "      <td>2</td>\n",
       "      <td>418.666667</td>\n",
       "      <td>209.333333</td>\n",
       "    </tr>\n",
       "    <tr>\n",
       "      <th>100</th>\n",
       "      <td>Miklavž na Dravskem polju</td>\n",
       "      <td>4</td>\n",
       "      <td>496.923077</td>\n",
       "      <td>124.230769</td>\n",
       "    </tr>\n",
       "    <tr>\n",
       "      <th>85</th>\n",
       "      <td>Log - Dragomer</td>\n",
       "      <td>3</td>\n",
       "      <td>330.545455</td>\n",
       "      <td>110.181818</td>\n",
       "    </tr>\n",
       "    <tr>\n",
       "      <th>97</th>\n",
       "      <td>Mengeš</td>\n",
       "      <td>4</td>\n",
       "      <td>331.739130</td>\n",
       "      <td>82.934783</td>\n",
       "    </tr>\n",
       "    <tr>\n",
       "      <th>56</th>\n",
       "      <td>Izola</td>\n",
       "      <td>9</td>\n",
       "      <td>547.137931</td>\n",
       "      <td>60.793103</td>\n",
       "    </tr>\n",
       "    <tr>\n",
       "      <th>120</th>\n",
       "      <td>Piran</td>\n",
       "      <td>11</td>\n",
       "      <td>396.822222</td>\n",
       "      <td>36.074747</td>\n",
       "    </tr>\n",
       "    <tr>\n",
       "      <th>194</th>\n",
       "      <td>Veržej</td>\n",
       "      <td>3</td>\n",
       "      <td>107.916667</td>\n",
       "      <td>35.972222</td>\n",
       "    </tr>\n",
       "  </tbody>\n",
       "</table>\n",
       "</div>"
      ],
      "text/plain": [
       "                        obcina  naselje     gostota  gostota/naselje\n",
       "188                      Trzin        1  428.666667       428.666667\n",
       "1                      Ankaran        1  402.375000       402.375000\n",
       "115                    Odranci        1  235.857143       235.857143\n",
       "167           Šempeter-Vrtojba        2  418.666667       209.333333\n",
       "100  Miklavž na Dravskem polju        4  496.923077       124.230769\n",
       "85              Log - Dragomer        3  330.545455       110.181818\n",
       "97                      Mengeš        4  331.739130        82.934783\n",
       "56                       Izola        9  547.137931        60.793103\n",
       "120                      Piran       11  396.822222        36.074747\n",
       "194                     Veržej        3  107.916667        35.972222"
      ]
     },
     "execution_count": 101,
     "metadata": {},
     "output_type": "execute_result"
    }
   ],
   "source": [
    "gostota"
   ]
  },
  {
   "cell_type": "markdown",
   "metadata": {},
   "source": []
  }
 ],
 "metadata": {
  "celltoolbar": "Raw Cell Format",
  "kernelspec": {
   "display_name": "Python 3",
   "language": "python",
   "name": "python3"
  },
  "language_info": {
   "codemirror_mode": {
    "name": "ipython",
    "version": 3
   },
   "file_extension": ".py",
   "mimetype": "text/x-python",
   "name": "python",
   "nbconvert_exporter": "python",
   "pygments_lexer": "ipython3",
   "version": "3.6.1"
  }
 },
 "nbformat": 4,
 "nbformat_minor": 1
}
